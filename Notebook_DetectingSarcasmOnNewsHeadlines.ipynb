{
  "nbformat": 4,
  "nbformat_minor": 0,
  "metadata": {
    "colab": {
      "name": "TextMining Project.ipynb",
      "provenance": [],
      "collapsed_sections": []
    },
    "kernelspec": {
      "name": "python3",
      "display_name": "Python 3"
    },
    "language_info": {
      "name": "python"
    },
    "accelerator": "GPU"
  },
  "cells": [
    {
      "cell_type": "code",
      "source": [
        "!pip install transformers\n",
        "!pip install --upgrade spacy"
      ],
      "metadata": {
        "id": "NkWzTwZ9VY5l"
      },
      "execution_count": null,
      "outputs": []
    },
    {
      "cell_type": "code",
      "execution_count": 2,
      "metadata": {
        "id": "Dpcp5VVUOQkr"
      },
      "outputs": [],
      "source": [
        "import pandas as pd\n",
        "import spacy\n",
        "from keras.callbacks import EarlyStopping, ModelCheckpoint\n",
        "from numpy import savetxt, loadtxt\n",
        "from sklearn.model_selection import train_test_split\n",
        "from sklearn.naive_bayes import MultinomialNB\n",
        "from sklearn.feature_extraction.text import CountVectorizer, TfidfVectorizer\n",
        "from sklearn.metrics import classification_report\n",
        "from sklearn.pipeline import Pipeline\n",
        "from sklearn.metrics import confusion_matrix, ConfusionMatrixDisplay\n",
        "import matplotlib.pyplot as plt\n",
        "from sklearn.model_selection import GridSearchCV\n",
        "import numpy as np\n",
        "import gensim\n",
        "import keras\n",
        "from keras.preprocessing import text, sequence\n",
        "from keras.models import Sequential, load_model\n",
        "from keras.layers import Input, Dense, Embedding, LSTM, Dropout, Bidirectional, Conv1D, GlobalMaxPool1D\n",
        "import tensorflow as tf\n",
        "import gensim.downloader\n",
        "from transformers import TFBertModel, BertTokenizer\n",
        "import torch\n",
        "from tokenizers import BertWordPieceTokenizer\n",
        "\n",
        "path = '/content/drive/MyDrive/ColabNotebooks/TextMiningProject/TextMiningData/'"
      ]
    },
    {
      "cell_type": "code",
      "source": [
        "# import original data files\n",
        "data_1 = pd.read_json(path+\"Sarcasm_Headlines_Dataset.json\", lines=True)\n",
        "data_2 = pd.read_json(path+\"Sarcasm_Headlines_Dataset_v2.json\", lines=True)\n",
        "\n",
        "data_all = pd.concat([data_1, data_2], axis=0, ignore_index=True)\n",
        "data_all = data_all.drop_duplicates(subset=['headline'])\n",
        "data_all = data_all.drop(['article_link'], axis=1)\n",
        "data_all = data_all.sample(frac=1, random_state=0)\n",
        "\n",
        "len(data_all)  # 28503\n",
        "sum(data_all['is_sarcastic'] == 0) / len(data_all)  # 0.5245"
      ],
      "metadata": {
        "id": "2NdAuHeVOrqM",
        "colab": {
          "base_uri": "https://localhost:8080/"
        },
        "outputId": "d427c6ed-9234-4879-ebf0-a743b0ac32b9"
      },
      "execution_count": 20,
      "outputs": [
        {
          "output_type": "execute_result",
          "data": {
            "text/plain": [
              "0.5245412763568748"
            ]
          },
          "metadata": {},
          "execution_count": 20
        }
      ]
    },
    {
      "cell_type": "code",
      "source": [
        "data_2.head()"
      ],
      "metadata": {
        "colab": {
          "base_uri": "https://localhost:8080/",
          "height": 206
        },
        "id": "y60iHPBbCVNp",
        "outputId": "46ea59e0-a961-4d4e-da9c-54a2a777d56b"
      },
      "execution_count": 4,
      "outputs": [
        {
          "output_type": "execute_result",
          "data": {
            "text/html": [
              "\n",
              "  <div id=\"df-3b160c73-621c-4a0e-bbdd-cd273d42e39b\">\n",
              "    <div class=\"colab-df-container\">\n",
              "      <div>\n",
              "<style scoped>\n",
              "    .dataframe tbody tr th:only-of-type {\n",
              "        vertical-align: middle;\n",
              "    }\n",
              "\n",
              "    .dataframe tbody tr th {\n",
              "        vertical-align: top;\n",
              "    }\n",
              "\n",
              "    .dataframe thead th {\n",
              "        text-align: right;\n",
              "    }\n",
              "</style>\n",
              "<table border=\"1\" class=\"dataframe\">\n",
              "  <thead>\n",
              "    <tr style=\"text-align: right;\">\n",
              "      <th></th>\n",
              "      <th>is_sarcastic</th>\n",
              "      <th>headline</th>\n",
              "      <th>article_link</th>\n",
              "    </tr>\n",
              "  </thead>\n",
              "  <tbody>\n",
              "    <tr>\n",
              "      <th>0</th>\n",
              "      <td>1</td>\n",
              "      <td>thirtysomething scientists unveil doomsday clo...</td>\n",
              "      <td>https://www.theonion.com/thirtysomething-scien...</td>\n",
              "    </tr>\n",
              "    <tr>\n",
              "      <th>1</th>\n",
              "      <td>0</td>\n",
              "      <td>dem rep. totally nails why congress is falling...</td>\n",
              "      <td>https://www.huffingtonpost.com/entry/donna-edw...</td>\n",
              "    </tr>\n",
              "    <tr>\n",
              "      <th>2</th>\n",
              "      <td>0</td>\n",
              "      <td>eat your veggies: 9 deliciously different recipes</td>\n",
              "      <td>https://www.huffingtonpost.com/entry/eat-your-...</td>\n",
              "    </tr>\n",
              "    <tr>\n",
              "      <th>3</th>\n",
              "      <td>1</td>\n",
              "      <td>inclement weather prevents liar from getting t...</td>\n",
              "      <td>https://local.theonion.com/inclement-weather-p...</td>\n",
              "    </tr>\n",
              "    <tr>\n",
              "      <th>4</th>\n",
              "      <td>1</td>\n",
              "      <td>mother comes pretty close to using word 'strea...</td>\n",
              "      <td>https://www.theonion.com/mother-comes-pretty-c...</td>\n",
              "    </tr>\n",
              "  </tbody>\n",
              "</table>\n",
              "</div>\n",
              "      <button class=\"colab-df-convert\" onclick=\"convertToInteractive('df-3b160c73-621c-4a0e-bbdd-cd273d42e39b')\"\n",
              "              title=\"Convert this dataframe to an interactive table.\"\n",
              "              style=\"display:none;\">\n",
              "        \n",
              "  <svg xmlns=\"http://www.w3.org/2000/svg\" height=\"24px\"viewBox=\"0 0 24 24\"\n",
              "       width=\"24px\">\n",
              "    <path d=\"M0 0h24v24H0V0z\" fill=\"none\"/>\n",
              "    <path d=\"M18.56 5.44l.94 2.06.94-2.06 2.06-.94-2.06-.94-.94-2.06-.94 2.06-2.06.94zm-11 1L8.5 8.5l.94-2.06 2.06-.94-2.06-.94L8.5 2.5l-.94 2.06-2.06.94zm10 10l.94 2.06.94-2.06 2.06-.94-2.06-.94-.94-2.06-.94 2.06-2.06.94z\"/><path d=\"M17.41 7.96l-1.37-1.37c-.4-.4-.92-.59-1.43-.59-.52 0-1.04.2-1.43.59L10.3 9.45l-7.72 7.72c-.78.78-.78 2.05 0 2.83L4 21.41c.39.39.9.59 1.41.59.51 0 1.02-.2 1.41-.59l7.78-7.78 2.81-2.81c.8-.78.8-2.07 0-2.86zM5.41 20L4 18.59l7.72-7.72 1.47 1.35L5.41 20z\"/>\n",
              "  </svg>\n",
              "      </button>\n",
              "      \n",
              "  <style>\n",
              "    .colab-df-container {\n",
              "      display:flex;\n",
              "      flex-wrap:wrap;\n",
              "      gap: 12px;\n",
              "    }\n",
              "\n",
              "    .colab-df-convert {\n",
              "      background-color: #E8F0FE;\n",
              "      border: none;\n",
              "      border-radius: 50%;\n",
              "      cursor: pointer;\n",
              "      display: none;\n",
              "      fill: #1967D2;\n",
              "      height: 32px;\n",
              "      padding: 0 0 0 0;\n",
              "      width: 32px;\n",
              "    }\n",
              "\n",
              "    .colab-df-convert:hover {\n",
              "      background-color: #E2EBFA;\n",
              "      box-shadow: 0px 1px 2px rgba(60, 64, 67, 0.3), 0px 1px 3px 1px rgba(60, 64, 67, 0.15);\n",
              "      fill: #174EA6;\n",
              "    }\n",
              "\n",
              "    [theme=dark] .colab-df-convert {\n",
              "      background-color: #3B4455;\n",
              "      fill: #D2E3FC;\n",
              "    }\n",
              "\n",
              "    [theme=dark] .colab-df-convert:hover {\n",
              "      background-color: #434B5C;\n",
              "      box-shadow: 0px 1px 3px 1px rgba(0, 0, 0, 0.15);\n",
              "      filter: drop-shadow(0px 1px 2px rgba(0, 0, 0, 0.3));\n",
              "      fill: #FFFFFF;\n",
              "    }\n",
              "  </style>\n",
              "\n",
              "      <script>\n",
              "        const buttonEl =\n",
              "          document.querySelector('#df-3b160c73-621c-4a0e-bbdd-cd273d42e39b button.colab-df-convert');\n",
              "        buttonEl.style.display =\n",
              "          google.colab.kernel.accessAllowed ? 'block' : 'none';\n",
              "\n",
              "        async function convertToInteractive(key) {\n",
              "          const element = document.querySelector('#df-3b160c73-621c-4a0e-bbdd-cd273d42e39b');\n",
              "          const dataTable =\n",
              "            await google.colab.kernel.invokeFunction('convertToInteractive',\n",
              "                                                     [key], {});\n",
              "          if (!dataTable) return;\n",
              "\n",
              "          const docLinkHtml = 'Like what you see? Visit the ' +\n",
              "            '<a target=\"_blank\" href=https://colab.research.google.com/notebooks/data_table.ipynb>data table notebook</a>'\n",
              "            + ' to learn more about interactive tables.';\n",
              "          element.innerHTML = '';\n",
              "          dataTable['output_type'] = 'display_data';\n",
              "          await google.colab.output.renderOutput(dataTable, element);\n",
              "          const docLink = document.createElement('div');\n",
              "          docLink.innerHTML = docLinkHtml;\n",
              "          element.appendChild(docLink);\n",
              "        }\n",
              "      </script>\n",
              "    </div>\n",
              "  </div>\n",
              "  "
            ],
            "text/plain": [
              "   is_sarcastic  ...                                       article_link\n",
              "0             1  ...  https://www.theonion.com/thirtysomething-scien...\n",
              "1             0  ...  https://www.huffingtonpost.com/entry/donna-edw...\n",
              "2             0  ...  https://www.huffingtonpost.com/entry/eat-your-...\n",
              "3             1  ...  https://local.theonion.com/inclement-weather-p...\n",
              "4             1  ...  https://www.theonion.com/mother-comes-pretty-c...\n",
              "\n",
              "[5 rows x 3 columns]"
            ]
          },
          "metadata": {},
          "execution_count": 4
        }
      ]
    },
    {
      "cell_type": "code",
      "source": [
        "!python -m spacy download en_core_web_lg"
      ],
      "metadata": {
        "id": "8EpTYEKLfbJc"
      },
      "execution_count": null,
      "outputs": []
    },
    {
      "cell_type": "code",
      "source": [
        "# tokenize the data!\n",
        "nlp = spacy.load('en_core_web_lg')\n",
        "\n",
        "def preprocess(text):\n",
        "    doc = nlp(text)\n",
        "    res = []\n",
        "    for token in doc:\n",
        "        if token.is_stop != True and token.is_alpha == True:\n",
        "            res.append(token.text.lower())\n",
        "    return \" \".join(res)\n",
        "\n",
        "data_all['headline_before'] = data_all['headline']\n",
        "data_all['headline'] = data_all['headline_before'].apply(preprocess)"
      ],
      "metadata": {
        "id": "1_xsxDIlPQCZ"
      },
      "execution_count": 21,
      "outputs": []
    },
    {
      "cell_type": "code",
      "source": [
        "empty_headlines_idx = np.where(data_all['headline'].apply(lambda x: x == ''))\n",
        "data_all.iloc[empty_headlines_idx]\n",
        "#                     headline  is_sarcastic\n",
        "# 9295     i was, but now i am             0\n",
        "# 19626      what's in a name?             0\n",
        "# 25158  who were you on 9/11?             0\n",
        "# 26311         you are enough             0\n",
        "data_tokenized = data_all.drop_duplicates(subset=['headline'])\n",
        "data_tokenized = data_all[data_all.headline != '']\n",
        "# save tokenized data\n",
        "data_tokenized.to_json(r'Sarcasm_Headlines_Dataset_tokenized.json', orient='records')\n",
        "len(data_tokenized)  # 28464"
      ],
      "metadata": {
        "colab": {
          "base_uri": "https://localhost:8080/"
        },
        "id": "V0mPt5V3jR6g",
        "outputId": "4a2db4c8-e202-44d5-8aa8-fe52aab9d32d"
      },
      "execution_count": 22,
      "outputs": [
        {
          "output_type": "execute_result",
          "data": {
            "text/plain": [
              "28499"
            ]
          },
          "metadata": {},
          "execution_count": 22
        }
      ]
    },
    {
      "cell_type": "code",
      "source": [
        "# read tokenized data\n",
        "data_tokenized = pd.read_json(path+\"Sarcasm_Headlines_Dataset_tokenized.json\")"
      ],
      "metadata": {
        "id": "YI4GGIsAPTPa"
      },
      "execution_count": 67,
      "outputs": []
    },
    {
      "cell_type": "code",
      "source": [
        "data_tokenized[:10]"
      ],
      "metadata": {
        "colab": {
          "base_uri": "https://localhost:8080/",
          "height": 363
        },
        "id": "GYLybTR0Ij5h",
        "outputId": "9bb16ce2-8e07-430c-d265-14776f07693f"
      },
      "execution_count": 68,
      "outputs": [
        {
          "output_type": "execute_result",
          "data": {
            "text/html": [
              "\n",
              "  <div id=\"df-6feaada8-b0ea-47f5-b62f-8fd4769c1088\">\n",
              "    <div class=\"colab-df-container\">\n",
              "      <div>\n",
              "<style scoped>\n",
              "    .dataframe tbody tr th:only-of-type {\n",
              "        vertical-align: middle;\n",
              "    }\n",
              "\n",
              "    .dataframe tbody tr th {\n",
              "        vertical-align: top;\n",
              "    }\n",
              "\n",
              "    .dataframe thead th {\n",
              "        text-align: right;\n",
              "    }\n",
              "</style>\n",
              "<table border=\"1\" class=\"dataframe\">\n",
              "  <thead>\n",
              "    <tr style=\"text-align: right;\">\n",
              "      <th></th>\n",
              "      <th>headline</th>\n",
              "      <th>is_sarcastic</th>\n",
              "    </tr>\n",
              "  </thead>\n",
              "  <tbody>\n",
              "    <tr>\n",
              "      <th>0</th>\n",
              "      <td>trucking industry honors methamphetamines</td>\n",
              "      <td>1</td>\n",
              "    </tr>\n",
              "    <tr>\n",
              "      <th>1</th>\n",
              "      <td>scientists receive million grant melt stuff</td>\n",
              "      <td>1</td>\n",
              "    </tr>\n",
              "    <tr>\n",
              "      <th>2</th>\n",
              "      <td>listen area boss gets</td>\n",
              "      <td>1</td>\n",
              "    </tr>\n",
              "    <tr>\n",
              "      <th>3</th>\n",
              "      <td>pope francis finds self hell taking wrong turn...</td>\n",
              "      <td>1</td>\n",
              "    </tr>\n",
              "    <tr>\n",
              "      <th>4</th>\n",
              "      <td>report finds poor hit hardest</td>\n",
              "      <td>1</td>\n",
              "    </tr>\n",
              "    <tr>\n",
              "      <th>5</th>\n",
              "      <td>impatient nation demands supreme court gay stuff</td>\n",
              "      <td>1</td>\n",
              "    </tr>\n",
              "    <tr>\n",
              "      <th>6</th>\n",
              "      <td>lessons learned diane keaton new book</td>\n",
              "      <td>0</td>\n",
              "    </tr>\n",
              "    <tr>\n",
              "      <th>7</th>\n",
              "      <td>brazilian artists pay tribute olympic refugee ...</td>\n",
              "      <td>0</td>\n",
              "    </tr>\n",
              "    <tr>\n",
              "      <th>8</th>\n",
              "      <td>hiring employee know hurt business</td>\n",
              "      <td>0</td>\n",
              "    </tr>\n",
              "    <tr>\n",
              "      <th>9</th>\n",
              "      <td>watch dirt bikers bit close nature</td>\n",
              "      <td>0</td>\n",
              "    </tr>\n",
              "  </tbody>\n",
              "</table>\n",
              "</div>\n",
              "      <button class=\"colab-df-convert\" onclick=\"convertToInteractive('df-6feaada8-b0ea-47f5-b62f-8fd4769c1088')\"\n",
              "              title=\"Convert this dataframe to an interactive table.\"\n",
              "              style=\"display:none;\">\n",
              "        \n",
              "  <svg xmlns=\"http://www.w3.org/2000/svg\" height=\"24px\"viewBox=\"0 0 24 24\"\n",
              "       width=\"24px\">\n",
              "    <path d=\"M0 0h24v24H0V0z\" fill=\"none\"/>\n",
              "    <path d=\"M18.56 5.44l.94 2.06.94-2.06 2.06-.94-2.06-.94-.94-2.06-.94 2.06-2.06.94zm-11 1L8.5 8.5l.94-2.06 2.06-.94-2.06-.94L8.5 2.5l-.94 2.06-2.06.94zm10 10l.94 2.06.94-2.06 2.06-.94-2.06-.94-.94-2.06-.94 2.06-2.06.94z\"/><path d=\"M17.41 7.96l-1.37-1.37c-.4-.4-.92-.59-1.43-.59-.52 0-1.04.2-1.43.59L10.3 9.45l-7.72 7.72c-.78.78-.78 2.05 0 2.83L4 21.41c.39.39.9.59 1.41.59.51 0 1.02-.2 1.41-.59l7.78-7.78 2.81-2.81c.8-.78.8-2.07 0-2.86zM5.41 20L4 18.59l7.72-7.72 1.47 1.35L5.41 20z\"/>\n",
              "  </svg>\n",
              "      </button>\n",
              "      \n",
              "  <style>\n",
              "    .colab-df-container {\n",
              "      display:flex;\n",
              "      flex-wrap:wrap;\n",
              "      gap: 12px;\n",
              "    }\n",
              "\n",
              "    .colab-df-convert {\n",
              "      background-color: #E8F0FE;\n",
              "      border: none;\n",
              "      border-radius: 50%;\n",
              "      cursor: pointer;\n",
              "      display: none;\n",
              "      fill: #1967D2;\n",
              "      height: 32px;\n",
              "      padding: 0 0 0 0;\n",
              "      width: 32px;\n",
              "    }\n",
              "\n",
              "    .colab-df-convert:hover {\n",
              "      background-color: #E2EBFA;\n",
              "      box-shadow: 0px 1px 2px rgba(60, 64, 67, 0.3), 0px 1px 3px 1px rgba(60, 64, 67, 0.15);\n",
              "      fill: #174EA6;\n",
              "    }\n",
              "\n",
              "    [theme=dark] .colab-df-convert {\n",
              "      background-color: #3B4455;\n",
              "      fill: #D2E3FC;\n",
              "    }\n",
              "\n",
              "    [theme=dark] .colab-df-convert:hover {\n",
              "      background-color: #434B5C;\n",
              "      box-shadow: 0px 1px 3px 1px rgba(0, 0, 0, 0.15);\n",
              "      filter: drop-shadow(0px 1px 2px rgba(0, 0, 0, 0.3));\n",
              "      fill: #FFFFFF;\n",
              "    }\n",
              "  </style>\n",
              "\n",
              "      <script>\n",
              "        const buttonEl =\n",
              "          document.querySelector('#df-6feaada8-b0ea-47f5-b62f-8fd4769c1088 button.colab-df-convert');\n",
              "        buttonEl.style.display =\n",
              "          google.colab.kernel.accessAllowed ? 'block' : 'none';\n",
              "\n",
              "        async function convertToInteractive(key) {\n",
              "          const element = document.querySelector('#df-6feaada8-b0ea-47f5-b62f-8fd4769c1088');\n",
              "          const dataTable =\n",
              "            await google.colab.kernel.invokeFunction('convertToInteractive',\n",
              "                                                     [key], {});\n",
              "          if (!dataTable) return;\n",
              "\n",
              "          const docLinkHtml = 'Like what you see? Visit the ' +\n",
              "            '<a target=\"_blank\" href=https://colab.research.google.com/notebooks/data_table.ipynb>data table notebook</a>'\n",
              "            + ' to learn more about interactive tables.';\n",
              "          element.innerHTML = '';\n",
              "          dataTable['output_type'] = 'display_data';\n",
              "          await google.colab.output.renderOutput(dataTable, element);\n",
              "          const docLink = document.createElement('div');\n",
              "          docLink.innerHTML = docLinkHtml;\n",
              "          element.appendChild(docLink);\n",
              "        }\n",
              "      </script>\n",
              "    </div>\n",
              "  </div>\n",
              "  "
            ],
            "text/plain": [
              "                                            headline  is_sarcastic\n",
              "0          trucking industry honors methamphetamines             1\n",
              "1        scientists receive million grant melt stuff             1\n",
              "2                              listen area boss gets             1\n",
              "3  pope francis finds self hell taking wrong turn...             1\n",
              "4                      report finds poor hit hardest             1\n",
              "5   impatient nation demands supreme court gay stuff             1\n",
              "6              lessons learned diane keaton new book             0\n",
              "7  brazilian artists pay tribute olympic refugee ...             0\n",
              "8                 hiring employee know hurt business             0\n",
              "9                 watch dirt bikers bit close nature             0"
            ]
          },
          "metadata": {},
          "execution_count": 68
        }
      ]
    },
    {
      "cell_type": "code",
      "source": [
        "# visualize the data\n",
        "fig, ax = plt.subplots()\n",
        "ax.pie([sum(data_tokenized['is_sarcastic'] == 0), sum(data_tokenized['is_sarcastic'] == 1)],\n",
        "        explode=(0,0.05), labels=[\"Non-sarcastic\",\"Sarcastic\"], autopct='%1.1f%%',\n",
        "        shadow=True, startangle=90)\n",
        "ax.axis('equal')\n",
        "plt.show()\n",
        "fig.savefig(path+\"class distribution.png\")"
      ],
      "metadata": {
        "colab": {
          "base_uri": "https://localhost:8080/",
          "height": 248
        },
        "id": "vhGA6pS_c8ci",
        "outputId": "f5d1a1dd-c930-4756-dc83-18aff3a16265"
      },
      "execution_count": 35,
      "outputs": [
        {
          "output_type": "display_data",
          "data": {
            "image/png": "[encoded data removed]",
            "text/plain": [
              "<Figure size 432x288 with 1 Axes>"
            ]
          },
          "metadata": {}
        }
      ]
    },
    {
      "cell_type": "code",
      "source": [
        "# visualize the data\n",
        "sum(data_tokenized['is_sarcastic'] == 0) / len(data_tokenized)  # 0.5239\n",
        "data_headline_sar = data_tokenized[data_tokenized['is_sarcastic'] == 1]['headline']\n",
        "data_headline_non_sar = data_tokenized[data_tokenized['is_sarcastic'] == 0]['headline']\n",
        "# word counts distribution in each class\n",
        "text_len_sar = data_headline_sar.map(lambda x: len(x.split()))\n",
        "text_len_non_sar = data_headline_non_sar.map(lambda x: len(x.split()))\n",
        "fig, ax = plt.subplots(1, 2, figsize=(10, 5))\n",
        "ax[0].set_title('Word count in sarcastic text')\n",
        "ax[0].hist(text_len_sar, range=(0, 18))  # exclude 6\n",
        "ax[1].set_title('Word count in non-Sarcastic text')\n",
        "ax[1].hist(text_len_non_sar, range=(0, 18))  # exclude 1\n",
        "plt.show()\n",
        "fig.savefig(path+\"Words in text.png\")\n",
        "\n",
        "# average word length of each text distribution in each class\n",
        "word_len_sar = data_headline_sar.map(lambda x: np.mean([len(i) for i in x.split()]))\n",
        "word_len_non_sar = data_headline_non_sar.map(lambda x: np.mean([len(i) for i in x.split()]))\n",
        "fig, ax = plt.subplots(1, 2, figsize=(10, 5))\n",
        "ax[0].set_title('Average word length in sarcastic text')\n",
        "ax[0].hist(word_len_sar)\n",
        "ax[1].set_title('Average word length in non-sarcastic text')\n",
        "ax[1].hist(word_len_non_sar)\n",
        "plt.show()\n",
        "fig.savefig(path+\"Average word length in text.png\")"
      ],
      "metadata": {
        "id": "lyvNCCHwPd62",
        "colab": {
          "base_uri": "https://localhost:8080/",
          "height": 655
        },
        "outputId": "0eea928d-8858-4880-d8fc-427a9b4238ac"
      },
      "execution_count": 36,
      "outputs": [
        {
          "output_type": "display_data",
          "data": {
            "image/png": "[encoded data removed]",
            "text/plain": [
              "<Figure size 720x360 with 2 Axes>"
            ]
          },
          "metadata": {
            "needs_background": "light"
          }
        },
        {
          "output_type": "display_data",
          "data": {
            "image/png": "[encoded data removed]",
            "text/plain": [
              "<Figure size 720x360 with 2 Axes>"
            ]
          },
          "metadata": {
            "needs_background": "light"
          }
        }
      ]
    },
    {
      "cell_type": "code",
      "source": [
        "# visualize the data\n",
        "words_sar = data_headline_sar.str.split(expand=True).unstack().value_counts(ascending=True)\n",
        "words_nonsar = data_headline_non_sar.str.split(expand=True).unstack().value_counts(ascending=True)\n",
        "fig, ax = plt.subplots(1, 2, figsize=(11, 10))\n",
        "ax[0].set_title('Words frequency in sarcastic text')\n",
        "ax[0].barh(range(50), words_sar.values[-50:], tick_label=words_sar.keys()[-50:])\n",
        "ax[1].set_title('Words frequency in non-sarcastic text')\n",
        "ax[1].barh(range(50), words_nonsar.values[-50:], tick_label=words_nonsar.keys()[-50:])\n",
        "plt.show()\n",
        "fig.savefig(path+\"Words frequency in text.png\")"
      ],
      "metadata": {
        "colab": {
          "base_uri": "https://localhost:8080/",
          "height": 607
        },
        "id": "TilLd6DZexts",
        "outputId": "3803436a-1327-489c-ca47-c5e5254cc917"
      },
      "execution_count": 37,
      "outputs": [
        {
          "output_type": "display_data",
          "data": {
            "image/png": "[encoded data removed]",
            "text/plain": [
              "<Figure size 792x720 with 2 Axes>"
            ]
          },
          "metadata": {
            "needs_background": "light"
          }
        }
      ]
    },
    {
      "cell_type": "code",
      "source": [
        "# split data into training, validation, test dataset\n",
        "data_trainval, data_test = train_test_split(data_tokenized, test_size=0.15, random_state=0)\n",
        "data_train, data_val = train_test_split(data_trainval, test_size=0.2, random_state=0)\n",
        "\n",
        "print(len(data_train))  # 19355\n",
        "print(len(data_val))  # 4839\n",
        "print(len(data_test))  # 4270\n"
      ],
      "metadata": {
        "id": "wfm_7kFrPe91",
        "colab": {
          "base_uri": "https://localhost:8080/"
        },
        "outputId": "feef72e0-e9b4-41b6-9a1e-e853629ef798"
      },
      "execution_count": 69,
      "outputs": [
        {
          "output_type": "stream",
          "name": "stdout",
          "text": [
            "19355\n",
            "4839\n",
            "4270\n"
          ]
        }
      ]
    },
    {
      "cell_type": "code",
      "source": [
        "# baselines\n",
        "# naive bayes classifier - 79%\n",
        "pipe = Pipeline([('vectorizer', CountVectorizer()), ('MNB', MultinomialNB())])\n",
        "pipe.fit(data_train['headline'], data_train['is_sarcastic'])\n",
        "nb_pred = pipe.predict(data_test['headline'])\n",
        "print(classification_report(data_test['is_sarcastic'], nb_pred))\n",
        "# show confusion matrix\n",
        "cm = confusion_matrix(data_test['is_sarcastic'], nb_pred, labels=[0, 1])\n",
        "display = ConfusionMatrixDisplay(confusion_matrix=cm,\n",
        "                                 display_labels=[\"non-sarcastic\", \"sarcastic\"])\n",
        "display.plot()\n",
        "plt.show()\n",
        "\n",
        "# CV\n",
        "parameters = {'vectorizer__binary': [False, True],\n",
        "              'vectorizer__ngram_range': [(1, 1), (1, 2), (2, 2)],\n",
        "              'MNB__alpha': [5, 2, 1]}\n",
        "clf = GridSearchCV(pipe, parameters, cv=5)\n",
        "clf.fit(data_trainval['headline'], data_trainval['is_sarcastic'])\n",
        "print(f\"The best model is found using binary = {clf.best_params_['vectorizer__binary']}, \"\n",
        "      f\"ngram_range = {clf.best_params_['vectorizer__ngram_range']}, \"\n",
        "      f\"alpha = {clf.best_params_['MNB__alpha']} with average accuracy of {round(clf.best_score_, 3)}.\")"
      ],
      "metadata": {
        "id": "3DT6-Ia4PhrX",
        "colab": {
          "base_uri": "https://localhost:8080/",
          "height": 453
        },
        "outputId": "aff97f0c-3221-40a8-b3c2-35f3caaca0c9"
      },
      "execution_count": 5,
      "outputs": [
        {
          "output_type": "stream",
          "name": "stdout",
          "text": [
            "              precision    recall  f1-score   support\n",
            "\n",
            "           0       0.80      0.80      0.80      2241\n",
            "           1       0.78      0.79      0.78      2029\n",
            "\n",
            "    accuracy                           0.79      4270\n",
            "   macro avg       0.79      0.79      0.79      4270\n",
            "weighted avg       0.79      0.79      0.79      4270\n",
            "\n"
          ]
        },
        {
          "output_type": "display_data",
          "data": {
            "image/png": "[encoded data removed]",
            "text/plain": [
              "<Figure size 432x288 with 2 Axes>"
            ]
          },
          "metadata": {
            "needs_background": "light"
          }
        },
        {
          "output_type": "stream",
          "name": "stdout",
          "text": [
            "The best model is found using binary = True, ngram_range = (1, 2), alpha = 1 with average accuracy of 0.799.\n"
          ]
        }
      ]
    },
    {
      "cell_type": "code",
      "source": [
        "# Try TfidfVectorizer\n",
        "# naive bayes classifier - 79%\n",
        "pipe = Pipeline([('vectorizer', TfidfVectorizer()), ('MNB', MultinomialNB())])\n",
        "pipe.fit(data_train['headline'], data_train['is_sarcastic'])\n",
        "nb_pred = pipe.predict(data_test['headline'])\n",
        "print(classification_report(data_test['is_sarcastic'], nb_pred))\n",
        "# show confusion matrix\n",
        "cm = confusion_matrix(data_test['is_sarcastic'], nb_pred, labels=[0, 1])\n",
        "display = ConfusionMatrixDisplay(confusion_matrix=cm,\n",
        "                                 display_labels=[\"non-sarcastic\", \"sarcastic\"])\n",
        "display.plot()\n",
        "plt.show()"
      ],
      "metadata": {
        "colab": {
          "base_uri": "https://localhost:8080/",
          "height": 435
        },
        "id": "Ml2i_236NVhT",
        "outputId": "fcf023bf-118d-4270-9019-c51d694f2c78"
      },
      "execution_count": 6,
      "outputs": [
        {
          "output_type": "stream",
          "name": "stdout",
          "text": [
            "              precision    recall  f1-score   support\n",
            "\n",
            "           0       0.79      0.83      0.81      2241\n",
            "           1       0.80      0.75      0.77      2029\n",
            "\n",
            "    accuracy                           0.79      4270\n",
            "   macro avg       0.79      0.79      0.79      4270\n",
            "weighted avg       0.79      0.79      0.79      4270\n",
            "\n"
          ]
        },
        {
          "output_type": "display_data",
          "data": {
            "image/png": "[encoded data removed]",
            "text/plain": [
              "<Figure size 432x288 with 2 Axes>"
            ]
          },
          "metadata": {
            "needs_background": "light"
          }
        }
      ]
    },
    {
      "cell_type": "code",
      "source": [
        "# with count vectorizer\n",
        "# After CV - 0.80\n",
        "pipe = Pipeline([('vectorizer', CountVectorizer(binary=True, ngram_range=(1, 2))),\n",
        "                 ('MNB', MultinomialNB())])\n",
        "pipe.fit(data_train['headline'], data_train['is_sarcastic'])\n",
        "nb_pred = pipe.predict(data_test['headline'])\n",
        "print(classification_report(data_test['is_sarcastic'], nb_pred))\n",
        "# show confusion matrix\n",
        "cm = confusion_matrix(data_test['is_sarcastic'], nb_pred, labels=[0, 1])\n",
        "display = ConfusionMatrixDisplay(confusion_matrix=cm,\n",
        "                                 display_labels=[\"non-sarcastic\", \"sarcastic\"])\n",
        "display.plot()\n",
        "plt.show()\n",
        "display.im_.figure.savefig(path+\"naive bayes cm.png\")"
      ],
      "metadata": {
        "id": "nlruQ3x2Pnkd",
        "colab": {
          "base_uri": "https://localhost:8080/",
          "height": 438
        },
        "outputId": "184a75ad-2459-495f-e463-b575c4ed4df8"
      },
      "execution_count": 45,
      "outputs": [
        {
          "output_type": "stream",
          "name": "stdout",
          "text": [
            "              precision    recall  f1-score   support\n",
            "\n",
            "           0       0.81      0.81      0.81      2241\n",
            "           1       0.79      0.79      0.79      2029\n",
            "\n",
            "    accuracy                           0.80      4270\n",
            "   macro avg       0.80      0.80      0.80      4270\n",
            "weighted avg       0.80      0.80      0.80      4270\n",
            "\n"
          ]
        },
        {
          "output_type": "display_data",
          "data": {
            "image/png": "[encoded data removed]",
            "text/plain": [
              "<Figure size 432x288 with 2 Axes>"
            ]
          },
          "metadata": {
            "needs_background": "light"
          }
        }
      ]
    },
    {
      "cell_type": "code",
      "source": [
        "# Methodology\n",
        "# LSTM\n",
        "tokenizer = text.Tokenizer(num_words=35000)\n",
        "tokenizer.fit_on_texts(data_train.headline)  # only train\n",
        "tokenized_train = tokenizer.texts_to_sequences(data_train.headline)\n",
        "x_train_seq = sequence.pad_sequences(tokenized_train, maxlen=20)\n",
        "tokenized_val = tokenizer.texts_to_sequences(data_val.headline)  # only val\n",
        "x_val_seq = sequence.pad_sequences(tokenized_val, maxlen=20)\n",
        "tokenized_test = tokenizer.texts_to_sequences(data_test.headline)  # only test\n",
        "x_test_seq = sequence.pad_sequences(tokenized_test, maxlen=20)\n",
        "\n",
        "size_of_vocabulary = min(35000, len(tokenizer.word_index) + 1)  # 21736   +1 for UNKNOWN"
      ],
      "metadata": {
        "id": "JAA6vukVPp-k"
      },
      "execution_count": 70,
      "outputs": []
    },
    {
      "cell_type": "code",
      "source": [
        "# create wordembedding matrix\n",
        "# # Glove glove.6B.200d\n",
        "# # load glove word vectors\n",
        "# embeddings_index = dict()\n",
        "# f = open('glove.6B/glove.6B.200d.txt')\n",
        "# for line in f:\n",
        "#     values = line.split()\n",
        "#     embeddings_index[values[0]] = np.asarray(values[1:], dtype='float32')\n",
        "# f.close()\n",
        "# print('Loaded %s word vectors from GloVe.' % len(embeddings_index))  # 400,000\n",
        "# # create a weight matrix for words in training data\n",
        "embedding_matrix = np.zeros((size_of_vocabulary, 200))  # 21736x200\n",
        "# for word, i in tokenizer.word_index.items():\n",
        "#     if i >= 35000:\n",
        "#         continue\n",
        "#     embedding_vector = embeddings_index.get(word)\n",
        "#     if embedding_vector is not None:\n",
        "#         embedding_matrix[i] = embedding_vector\n",
        "# # glove glove.6B.200d end\n",
        "\n",
        "# gensim - glove-twitter-200\n",
        "# print(list(gensim.downloader.info()['models'].keys()))\n",
        "glove_vectors = gensim.downloader.load('glove-twitter-200')\n",
        "print('Loaded %s word vectors from GloVe.' % len(glove_vectors))  # 1,193,514\n",
        "# create a weight matrix for words in training data\n",
        "for word, i in tokenizer.word_index.items():\n",
        "    if i >= 35000:\n",
        "        continue\n",
        "    if word in glove_vectors.key_to_index:\n",
        "        embedding_matrix[i] = glove_vectors[word]\n",
        "# gensim - glove-twitter-200 end\n",
        "\n",
        "# save embedding_matrix to csv file\n",
        "savetxt(path+'embedding_matrix_glovetwitter200.csv', embedding_matrix, delimiter=',')"
      ],
      "metadata": {
        "id": "D9gttQIFmkwL"
      },
      "execution_count": null,
      "outputs": []
    },
    {
      "cell_type": "code",
      "source": [
        "# load array\n",
        "# embedding_matrix = loadtxt('embedding_matrix_glove6B200d.csv', delimiter=',', dtype='float32')\n",
        "embedding_matrix = loadtxt(path+'embedding_matrix_glovetwitter200.csv', delimiter=',', dtype='float32')"
      ],
      "metadata": {
        "id": "eJFBJb3ctvTJ"
      },
      "execution_count": 37,
      "outputs": []
    },
    {
      "cell_type": "code",
      "source": [
        "# function to plot model training process\n",
        "def plot_modelfit_process(model_history, title):\n",
        "  n = len(model_history.history['acc'])\n",
        "  fig, ax = plt.subplots(2, 1, figsize=(8, 8))\n",
        "  ax[0].set_title('Accuracy')\n",
        "  ax[0].plot(model_history.history['acc'])\n",
        "  ax[0].plot(model_history.history['val_acc'])\n",
        "  ax[0].axvline(x=np.where(model_history.history['val_acc'] == np.max(model_history.history['val_acc']))[0][0],\n",
        "                color='k', linestyle='--')\n",
        "  ax[0].set_xlabel(\"Epochs\")\n",
        "  ax[0].set_xticks(range(n))\n",
        "  ax[0].legend(['train', 'validation'])\n",
        "\n",
        "  ax[1].set_title('Loss')\n",
        "  ax[1].plot(model_history.history['loss'])\n",
        "  ax[1].plot(model_history.history['val_loss'])\n",
        "  ax[1].axvline(x=np.where(model_history.history['val_loss'] == np.min(model_history.history['val_loss']))[0][0],\n",
        "                color='k', linestyle='--')\n",
        "  ax[1].set_xlabel(\"Epochs\")\n",
        "  ax[1].set_xticks(range(n))\n",
        "  ax[1].legend(['train', 'validation'])\n",
        "  fig.tight_layout(pad=2.0)\n",
        "  plt.show()\n",
        "  fig.savefig(path+title)"
      ],
      "metadata": {
        "id": "_hzEnSsblH9y"
      },
      "execution_count": 45,
      "outputs": []
    },
    {
      "cell_type": "code",
      "source": [
        "# Defining Neural Network\n",
        "model = Sequential()\n",
        "# Non-trainable embedding layer\n",
        "model.add(Embedding(input_dim=size_of_vocabulary, output_dim=200, weights=[embedding_matrix],\n",
        "                    input_length=20, trainable=False))\n",
        "# LSTM\n",
        "model.add(Bidirectional(LSTM(units=128,\n",
        "                             return_sequences=True,\n",
        "                             dropout=0.5)))\n",
        "model.add(GlobalMaxPool1D())\n",
        "model.add(Dense(32, activation='relu'))\n",
        "model.add(Dropout(0.35))\n",
        "model.add(Dense(1, activation='sigmoid'))\n",
        "model.compile(optimizer=tf.keras.optimizers.Adam(),\n",
        "              loss='binary_crossentropy', metrics=['acc'])\n",
        "es = EarlyStopping(monitor='val_loss', mode='min', verbose=1, patience=5)\n",
        "mc = ModelCheckpoint(path+'best_model_lstm1.h5', monitor='val_acc', mode='max',\n",
        "                     save_best_only=True, verbose=1)"
      ],
      "metadata": {
        "id": "GLAxJCRfEwp6"
      },
      "execution_count": 92,
      "outputs": []
    },
    {
      "cell_type": "code",
      "source": [
        "model.summary()"
      ],
      "metadata": {
        "colab": {
          "base_uri": "https://localhost:8080/"
        },
        "id": "qW330Ef_1zZa",
        "outputId": "cd71c27b-85d8-4a7e-8b31-3a6190ed3c4e"
      },
      "execution_count": 93,
      "outputs": [
        {
          "output_type": "stream",
          "name": "stdout",
          "text": [
            "Model: \"sequential_13\"\n",
            "_________________________________________________________________\n",
            " Layer (type)                Output Shape              Param #   \n",
            "=================================================================\n",
            " embedding_13 (Embedding)    (None, 20, 200)           4310400   \n",
            "                                                                 \n",
            " bidirectional_13 (Bidirecti  (None, 20, 256)          336896    \n",
            " onal)                                                           \n",
            "                                                                 \n",
            " global_max_pooling1d_5 (Glo  (None, 256)              0         \n",
            " balMaxPooling1D)                                                \n",
            "                                                                 \n",
            " dense_15 (Dense)            (None, 32)                8224      \n",
            "                                                                 \n",
            " dropout_123 (Dropout)       (None, 32)                0         \n",
            "                                                                 \n",
            " dense_16 (Dense)            (None, 1)                 33        \n",
            "                                                                 \n",
            "=================================================================\n",
            "Total params: 4,655,553\n",
            "Trainable params: 345,153\n",
            "Non-trainable params: 4,310,400\n",
            "_________________________________________________________________\n"
          ]
        }
      ]
    },
    {
      "cell_type": "code",
      "source": [
        "# train\n",
        "history = model.fit(x_train_seq, data_train.is_sarcastic,\n",
        "                    batch_size=128,\n",
        "                    validation_data=(x_val_seq, data_val.is_sarcastic),\n",
        "                    verbose=1,\n",
        "                    epochs=20,\n",
        "                    callbacks=[es,mc])"
      ],
      "metadata": {
        "colab": {
          "base_uri": "https://localhost:8080/"
        },
        "id": "8n6TT9t-IeIm",
        "outputId": "a78f8bd7-2b57-4f01-a7ae-e7def541e300"
      },
      "execution_count": 94,
      "outputs": [
        {
          "output_type": "stream",
          "name": "stdout",
          "text": [
            "Epoch 1/20\n",
            "150/152 [============================>.] - ETA: 0s - loss: 0.5738 - acc: 0.7011\n",
            "Epoch 00001: val_acc improved from -inf to 0.75015, saving model to /content/drive/MyDrive/ColabNotebooks/TextMiningProject/TextMiningData/best_model_lstm1.h5\n",
            "152/152 [==============================] - 8s 30ms/step - loss: 0.5729 - acc: 0.7019 - val_loss: 0.5083 - val_acc: 0.7502\n",
            "Epoch 2/20\n",
            "149/152 [============================>.] - ETA: 0s - loss: 0.5037 - acc: 0.7552\n",
            "Epoch 00002: val_acc improved from 0.75015 to 0.76875, saving model to /content/drive/MyDrive/ColabNotebooks/TextMiningProject/TextMiningData/best_model_lstm1.h5\n",
            "152/152 [==============================] - 3s 18ms/step - loss: 0.5031 - acc: 0.7557 - val_loss: 0.4792 - val_acc: 0.7688\n",
            "Epoch 3/20\n",
            "149/152 [============================>.] - ETA: 0s - loss: 0.4750 - acc: 0.7774\n",
            "Epoch 00003: val_acc improved from 0.76875 to 0.78591, saving model to /content/drive/MyDrive/ColabNotebooks/TextMiningProject/TextMiningData/best_model_lstm1.h5\n",
            "152/152 [==============================] - 3s 18ms/step - loss: 0.4749 - acc: 0.7774 - val_loss: 0.4566 - val_acc: 0.7859\n",
            "Epoch 4/20\n",
            "151/152 [============================>.] - ETA: 0s - loss: 0.4534 - acc: 0.7899\n",
            "Epoch 00004: val_acc improved from 0.78591 to 0.78797, saving model to /content/drive/MyDrive/ColabNotebooks/TextMiningProject/TextMiningData/best_model_lstm1.h5\n",
            "152/152 [==============================] - 3s 18ms/step - loss: 0.4533 - acc: 0.7899 - val_loss: 0.4478 - val_acc: 0.7880\n",
            "Epoch 5/20\n",
            "151/152 [============================>.] - ETA: 0s - loss: 0.4266 - acc: 0.8060\n",
            "Epoch 00005: val_acc improved from 0.78797 to 0.80327, saving model to /content/drive/MyDrive/ColabNotebooks/TextMiningProject/TextMiningData/best_model_lstm1.h5\n",
            "152/152 [==============================] - 3s 18ms/step - loss: 0.4267 - acc: 0.8060 - val_loss: 0.4235 - val_acc: 0.8033\n",
            "Epoch 6/20\n",
            "150/152 [============================>.] - ETA: 0s - loss: 0.4096 - acc: 0.8133\n",
            "Epoch 00006: val_acc improved from 0.80327 to 0.80905, saving model to /content/drive/MyDrive/ColabNotebooks/TextMiningProject/TextMiningData/best_model_lstm1.h5\n",
            "152/152 [==============================] - 3s 18ms/step - loss: 0.4095 - acc: 0.8136 - val_loss: 0.4131 - val_acc: 0.8091\n",
            "Epoch 7/20\n",
            "150/152 [============================>.] - ETA: 0s - loss: 0.3973 - acc: 0.8169\n",
            "Epoch 00007: val_acc improved from 0.80905 to 0.81442, saving model to /content/drive/MyDrive/ColabNotebooks/TextMiningProject/TextMiningData/best_model_lstm1.h5\n",
            "152/152 [==============================] - 3s 18ms/step - loss: 0.3970 - acc: 0.8172 - val_loss: 0.4078 - val_acc: 0.8144\n",
            "Epoch 8/20\n",
            "152/152 [==============================] - ETA: 0s - loss: 0.3777 - acc: 0.8324\n",
            "Epoch 00008: val_acc improved from 0.81442 to 0.82228, saving model to /content/drive/MyDrive/ColabNotebooks/TextMiningProject/TextMiningData/best_model_lstm1.h5\n",
            "152/152 [==============================] - 3s 18ms/step - loss: 0.3777 - acc: 0.8324 - val_loss: 0.3971 - val_acc: 0.8223\n",
            "Epoch 9/20\n",
            "152/152 [==============================] - ETA: 0s - loss: 0.3662 - acc: 0.8380\n",
            "Epoch 00009: val_acc did not improve from 0.82228\n",
            "152/152 [==============================] - 3s 17ms/step - loss: 0.3662 - acc: 0.8380 - val_loss: 0.3999 - val_acc: 0.8202\n",
            "Epoch 10/20\n",
            "152/152 [==============================] - ETA: 0s - loss: 0.3518 - acc: 0.8462\n",
            "Epoch 00010: val_acc improved from 0.82228 to 0.82248, saving model to /content/drive/MyDrive/ColabNotebooks/TextMiningProject/TextMiningData/best_model_lstm1.h5\n",
            "152/152 [==============================] - 3s 17ms/step - loss: 0.3518 - acc: 0.8462 - val_loss: 0.3904 - val_acc: 0.8225\n",
            "Epoch 11/20\n",
            "151/152 [============================>.] - ETA: 0s - loss: 0.3383 - acc: 0.8518\n",
            "Epoch 00011: val_acc improved from 0.82248 to 0.82806, saving model to /content/drive/MyDrive/ColabNotebooks/TextMiningProject/TextMiningData/best_model_lstm1.h5\n",
            "152/152 [==============================] - 3s 18ms/step - loss: 0.3383 - acc: 0.8518 - val_loss: 0.3944 - val_acc: 0.8281\n",
            "Epoch 12/20\n",
            "149/152 [============================>.] - ETA: 0s - loss: 0.3218 - acc: 0.8619\n",
            "Epoch 00012: val_acc did not improve from 0.82806\n",
            "152/152 [==============================] - 3s 21ms/step - loss: 0.3229 - acc: 0.8613 - val_loss: 0.4088 - val_acc: 0.8233\n",
            "Epoch 13/20\n",
            "151/152 [============================>.] - ETA: 0s - loss: 0.3137 - acc: 0.8666\n",
            "Epoch 00013: val_acc did not improve from 0.82806\n",
            "152/152 [==============================] - 3s 17ms/step - loss: 0.3136 - acc: 0.8666 - val_loss: 0.4083 - val_acc: 0.8186\n",
            "Epoch 14/20\n",
            "149/152 [============================>.] - ETA: 0s - loss: 0.3058 - acc: 0.8712\n",
            "Epoch 00014: val_acc did not improve from 0.82806\n",
            "152/152 [==============================] - 3s 17ms/step - loss: 0.3057 - acc: 0.8712 - val_loss: 0.4006 - val_acc: 0.8264\n",
            "Epoch 15/20\n",
            "151/152 [============================>.] - ETA: 0s - loss: 0.2935 - acc: 0.8744\n",
            "Epoch 00015: val_acc improved from 0.82806 to 0.83364, saving model to /content/drive/MyDrive/ColabNotebooks/TextMiningProject/TextMiningData/best_model_lstm1.h5\n",
            "152/152 [==============================] - 3s 21ms/step - loss: 0.2935 - acc: 0.8744 - val_loss: 0.3903 - val_acc: 0.8336\n",
            "Epoch 16/20\n",
            "150/152 [============================>.] - ETA: 0s - loss: 0.2785 - acc: 0.8824\n",
            "Epoch 00016: val_acc did not improve from 0.83364\n",
            "152/152 [==============================] - 3s 17ms/step - loss: 0.2785 - acc: 0.8824 - val_loss: 0.4348 - val_acc: 0.8175\n",
            "Epoch 17/20\n",
            "151/152 [============================>.] - ETA: 0s - loss: 0.2719 - acc: 0.8855\n",
            "Epoch 00017: val_acc did not improve from 0.83364\n",
            "152/152 [==============================] - 3s 20ms/step - loss: 0.2720 - acc: 0.8854 - val_loss: 0.4054 - val_acc: 0.8324\n",
            "Epoch 18/20\n",
            "151/152 [============================>.] - ETA: 0s - loss: 0.2679 - acc: 0.8901\n",
            "Epoch 00018: val_acc did not improve from 0.83364\n",
            "152/152 [==============================] - 3s 17ms/step - loss: 0.2678 - acc: 0.8900 - val_loss: 0.4037 - val_acc: 0.8295\n",
            "Epoch 19/20\n",
            "149/152 [============================>.] - ETA: 0s - loss: 0.2561 - acc: 0.8937\n",
            "Epoch 00019: val_acc did not improve from 0.83364\n",
            "152/152 [==============================] - 3s 18ms/step - loss: 0.2560 - acc: 0.8938 - val_loss: 0.4233 - val_acc: 0.8266\n",
            "Epoch 20/20\n",
            "149/152 [============================>.] - ETA: 0s - loss: 0.2449 - acc: 0.8999\n",
            "Epoch 00020: val_acc did not improve from 0.83364\n",
            "152/152 [==============================] - 3s 17ms/step - loss: 0.2459 - acc: 0.8997 - val_loss: 0.4062 - val_acc: 0.8326\n",
            "Epoch 00020: early stopping\n"
          ]
        }
      ]
    },
    {
      "cell_type": "code",
      "source": [
        "# evaluation\n",
        "model = load_model(path+'best_model_lstm.h5')\n",
        "_, test_acc = model.evaluate(x_test_seq, data_test.is_sarcastic, batch_size=128)\n",
        "print(\"Accuracy of the model on Testing Data is - \", test_acc * 100)\n",
        "model_pred_lstm = model.predict(x_test_seq, batch_size=128)\n",
        "lstm_pred = np.where(model_pred_lstm >= 0.5, 1, 0)"
      ],
      "metadata": {
        "colab": {
          "base_uri": "https://localhost:8080/"
        },
        "id": "v3V9CUqoIaky",
        "outputId": "aa6905e8-5d27-4d0b-e7ec-96379308651b"
      },
      "execution_count": 71,
      "outputs": [
        {
          "output_type": "stream",
          "name": "stdout",
          "text": [
            "WARNING:tensorflow:Layer lstm_7 will not use cuDNN kernels since it doesn't meet the criteria. It will use a generic GPU kernel as fallback when running on GPU.\n",
            "WARNING:tensorflow:Layer lstm_7 will not use cuDNN kernels since it doesn't meet the criteria. It will use a generic GPU kernel as fallback when running on GPU.\n",
            "WARNING:tensorflow:Layer lstm_7 will not use cuDNN kernels since it doesn't meet the criteria. It will use a generic GPU kernel as fallback when running on GPU.\n",
            "34/34 [==============================] - 1s 15ms/step - loss: 0.3986 - acc: 0.8283\n",
            "Accuracy of the model on Testing Data is -  82.83372521400452\n"
          ]
        }
      ]
    },
    {
      "cell_type": "code",
      "source": [
        "# plot training accuracy\n",
        "plot_modelfit_process(history, \"training process lstm.png\")"
      ],
      "metadata": {
        "colab": {
          "base_uri": "https://localhost:8080/",
          "height": 567
        },
        "id": "8Rs0O-zII0MY",
        "outputId": "9ee8481a-0dff-42df-eb28-c424b9e0d8b8"
      },
      "execution_count": 96,
      "outputs": [
        {
          "output_type": "display_data",
          "data": {
            "image/png": "[encoded data removed]",
            "text/plain": [
              "<Figure size 576x576 with 2 Axes>"
            ]
          },
          "metadata": {
            "needs_background": "light"
          }
        }
      ]
    },
    {
      "cell_type": "code",
      "source": [
        "# show confusion matrix\n",
        "cm = confusion_matrix(data_test.is_sarcastic, lstm_pred, labels=[0, 1])\n",
        "display = ConfusionMatrixDisplay(confusion_matrix=cm,\n",
        "                                 display_labels=[\"non-sarcastic\", \"sarcastic\"])\n",
        "display.plot()\n",
        "plt.show()\n",
        "display.im_.figure.savefig(path+\"lstm cm.png\")\n",
        "\n",
        "print(classification_report(data_test.is_sarcastic, lstm_pred))"
      ],
      "metadata": {
        "id": "c2h94ZQWQF1F",
        "colab": {
          "base_uri": "https://localhost:8080/",
          "height": 435
        },
        "outputId": "c79236dc-2b44-4d86-e3a0-72226eef6458"
      },
      "execution_count": 97,
      "outputs": [
        {
          "output_type": "display_data",
          "data": {
            "image/png": "[encoded data removed]",
            "text/plain": [
              "<Figure size 432x288 with 2 Axes>"
            ]
          },
          "metadata": {
            "needs_background": "light"
          }
        },
        {
          "output_type": "stream",
          "name": "stdout",
          "text": [
            "              precision    recall  f1-score   support\n",
            "\n",
            "           0       0.83      0.84      0.84      2241\n",
            "           1       0.82      0.81      0.82      2029\n",
            "\n",
            "    accuracy                           0.83      4270\n",
            "   macro avg       0.83      0.83      0.83      4270\n",
            "weighted avg       0.83      0.83      0.83      4270\n",
            "\n"
          ]
        }
      ]
    },
    {
      "cell_type": "code",
      "source": [
        "# Bert\n",
        "# tokenize texts by using pre-trained bert tokenizer\n",
        "fast_tokenizer = BertWordPieceTokenizer(path+'bert-base-uncased-vocab.txt', lowercase=True)\n",
        "\n",
        "def fast_encode(texts, tokenizer, chunk_size=256, maxlen=20):\n",
        "    tokenizer.enable_truncation(max_length=maxlen)\n",
        "    tokenizer.enable_padding(length=maxlen)\n",
        "    all_ids = []\n",
        "    for i in range(0, len(texts), chunk_size):\n",
        "        text_chunk = texts[i:i + chunk_size].tolist()\n",
        "        encs = tokenizer.encode_batch(text_chunk)\n",
        "        all_ids.extend([enc.ids for enc in encs])\n",
        "    return np.array(all_ids)\n",
        "\n",
        "x_train_encode = fast_encode(data_train.headline, fast_tokenizer, maxlen=20)\n",
        "x_val_encode = fast_encode(data_val.headline, fast_tokenizer, maxlen=20)\n",
        "x_test_encode = fast_encode(data_test.headline, fast_tokenizer, maxlen=20)"
      ],
      "metadata": {
        "id": "ZtNX9qw-QIbW"
      },
      "execution_count": 72,
      "outputs": []
    },
    {
      "cell_type": "code",
      "source": [
        "# build model using pre-trained BERT model\n",
        "bert_model_pre_trained = TFBertModel.from_pretrained('bert-base-uncased')\n",
        "bert_input_word_ids = Input(shape=(20,), dtype=tf.int32, name=\"input_word_ids\")\n",
        "bert_embedding = bert_model_pre_trained(bert_input_word_ids)[0]\n",
        "cls_token = tf.keras.layers.GlobalAveragePooling1D()(bert_embedding) #bert_embedding[:, 0, :]\n",
        "bert_output = Dense(1, activation='sigmoid')(cls_token)\n",
        "bert_model = tf.keras.Model(inputs=bert_input_word_ids, outputs=bert_output)\n",
        "bert_model.compile(tf.keras.optimizers.Adam(learning_rate=2e-5),\n",
        "                   loss='binary_crossentropy', metrics=['acc'])\n",
        "bert_model.summary()"
      ],
      "metadata": {
        "id": "JFmbxIiKjPP5",
        "colab": {
          "base_uri": "https://localhost:8080/"
        },
        "outputId": "73f8bf07-3cc0-487d-a543-83882acc7b58"
      },
      "execution_count": 45,
      "outputs": [
        {
          "output_type": "stream",
          "name": "stderr",
          "text": [
            "Some layers from the model checkpoint at bert-base-uncased were not used when initializing TFBertModel: ['nsp___cls', 'mlm___cls']\n",
            "- This IS expected if you are initializing TFBertModel from the checkpoint of a model trained on another task or with another architecture (e.g. initializing a BertForSequenceClassification model from a BertForPreTraining model).\n",
            "- This IS NOT expected if you are initializing TFBertModel from the checkpoint of a model that you expect to be exactly identical (initializing a BertForSequenceClassification model from a BertForSequenceClassification model).\n",
            "All the layers of TFBertModel were initialized from the model checkpoint at bert-base-uncased.\n",
            "If your task is similar to the task the model of the checkpoint was trained on, you can already use TFBertModel for predictions without further training.\n"
          ]
        },
        {
          "output_type": "stream",
          "name": "stdout",
          "text": [
            "Model: \"model\"\n",
            "_________________________________________________________________\n",
            " Layer (type)                Output Shape              Param #   \n",
            "=================================================================\n",
            " input_word_ids (InputLayer)  [(None, 20)]             0         \n",
            "                                                                 \n",
            " tf_bert_model (TFBertModel)  TFBaseModelOutputWithPoo  109482240\n",
            "                             lingAndCrossAttentions(l            \n",
            "                             ast_hidden_state=(None,             \n",
            "                             20, 768),                           \n",
            "                              pooler_output=(None, 76            \n",
            "                             8),                                 \n",
            "                              past_key_values=None, h            \n",
            "                             idden_states=None, atten            \n",
            "                             tions=None, cross_attent            \n",
            "                             ions=None)                          \n",
            "                                                                 \n",
            " global_average_pooling1d (G  (None, 768)              0         \n",
            " lobalAveragePooling1D)                                          \n",
            "                                                                 \n",
            " dense (Dense)               (None, 1)                 769       \n",
            "                                                                 \n",
            "=================================================================\n",
            "Total params: 109,483,009\n",
            "Trainable params: 109,483,009\n",
            "Non-trainable params: 0\n",
            "_________________________________________________________________\n"
          ]
        }
      ]
    },
    {
      "cell_type": "code",
      "source": [
        "# train\n",
        "bert_mc = ModelCheckpoint(path+'best_model_bert1.h5', monitor='val_acc', save_weights_only=True, save_best_only=True, verbose=1)\n",
        "bert_es = EarlyStopping(monitor='val_loss', mode='min', verbose=1, patience=3)\n",
        "\n",
        "bert_history = bert_model.fit(x_train_encode, data_train.is_sarcastic,\n",
        "                         batch_size=128,\n",
        "                         validation_data=(x_val_encode, data_val.is_sarcastic),\n",
        "                         epochs=10,\n",
        "                         callbacks=[bert_mc, bert_es])"
      ],
      "metadata": {
        "colab": {
          "base_uri": "https://localhost:8080/"
        },
        "id": "MBgQMKP8jcb-",
        "outputId": "d0cdc6ab-7228-41ae-ef59-36fad3f5aa5f"
      },
      "execution_count": 17,
      "outputs": [
        {
          "output_type": "stream",
          "name": "stdout",
          "text": [
            "Epoch 1/10\n",
            "WARNING:tensorflow:Gradients do not exist for variables ['tf_bert_model_2/bert/pooler/dense/kernel:0', 'tf_bert_model_2/bert/pooler/dense/bias:0'] when minimizing the loss. If you're using `model.compile()`, did you forget to provide a `loss`argument?\n",
            "WARNING:tensorflow:Gradients do not exist for variables ['tf_bert_model_2/bert/pooler/dense/kernel:0', 'tf_bert_model_2/bert/pooler/dense/bias:0'] when minimizing the loss. If you're using `model.compile()`, did you forget to provide a `loss`argument?\n",
            "152/152 [==============================] - ETA: 0s - loss: 0.4923 - acc: 0.7561\n",
            "Epoch 00001: val_acc improved from -inf to 0.82083, saving model to /content/drive/MyDrive/ColabNotebooks/TextMiningProject/TextMiningData/best_model_bert1.h5\n",
            "152/152 [==============================] - 179s 1s/step - loss: 0.4923 - acc: 0.7561 - val_loss: 0.3918 - val_acc: 0.8208\n",
            "Epoch 2/10\n",
            "152/152 [==============================] - ETA: 0s - loss: 0.3155 - acc: 0.8642\n",
            "Epoch 00002: val_acc improved from 0.82083 to 0.84274, saving model to /content/drive/MyDrive/ColabNotebooks/TextMiningProject/TextMiningData/best_model_bert1.h5\n",
            "152/152 [==============================] - 159s 1s/step - loss: 0.3155 - acc: 0.8642 - val_loss: 0.3512 - val_acc: 0.8427\n",
            "Epoch 3/10\n",
            "152/152 [==============================] - ETA: 0s - loss: 0.2047 - acc: 0.9195\n",
            "Epoch 00003: val_acc improved from 0.84274 to 0.84315, saving model to /content/drive/MyDrive/ColabNotebooks/TextMiningProject/TextMiningData/best_model_bert1.h5\n",
            "152/152 [==============================] - 158s 1s/step - loss: 0.2047 - acc: 0.9195 - val_loss: 0.3919 - val_acc: 0.8431\n",
            "Epoch 4/10\n",
            "152/152 [==============================] - ETA: 0s - loss: 0.1161 - acc: 0.9575\n",
            "Epoch 00004: val_acc improved from 0.84315 to 0.84728, saving model to /content/drive/MyDrive/ColabNotebooks/TextMiningProject/TextMiningData/best_model_bert1.h5\n",
            "152/152 [==============================] - 158s 1s/step - loss: 0.1161 - acc: 0.9575 - val_loss: 0.4421 - val_acc: 0.8473\n",
            "Epoch 5/10\n",
            "152/152 [==============================] - ETA: 0s - loss: 0.0716 - acc: 0.9757\n",
            "Epoch 00005: val_acc improved from 0.84728 to 0.85555, saving model to /content/drive/MyDrive/ColabNotebooks/TextMiningProject/TextMiningData/best_model_bert1.h5\n",
            "152/152 [==============================] - 159s 1s/step - loss: 0.0716 - acc: 0.9757 - val_loss: 0.5004 - val_acc: 0.8555\n",
            "Epoch 00005: early stopping\n"
          ]
        }
      ]
    },
    {
      "cell_type": "code",
      "source": [
        "# evaluation\n",
        "bert_model.load_weights(path+'best_model_bert.h5')\n",
        "bert_model.compile(tf.keras.optimizers.Adam(learning_rate=2e-5),\n",
        "                   loss='binary_crossentropy', metrics=['acc'])\n",
        "_, test_acc = bert_model.evaluate(x_test_encode, data_test.is_sarcastic, batch_size=128)\n",
        "print(\"Accuracy of the model on Testing Data is - \", test_acc * 100)\n",
        "# 0.85878 - best_model_bert\n",
        "model_pred_bert = bert_model.predict(x_test_encode, batch_size=128)\n",
        "bert_pred = np.where(model_pred_bert >= 0.5, 1, 0)"
      ],
      "metadata": {
        "colab": {
          "base_uri": "https://localhost:8080/"
        },
        "id": "h9k40pOQjqaU",
        "outputId": "27b4a72f-b207-40e4-9eb1-e128507a8875"
      },
      "execution_count": 73,
      "outputs": [
        {
          "output_type": "stream",
          "name": "stdout",
          "text": [
            "34/34 [==============================] - 11s 171ms/step - loss: 0.4961 - acc: 0.8588\n",
            "Accuracy of the model on Testing Data is -  85.8782172203064\n"
          ]
        }
      ]
    },
    {
      "cell_type": "code",
      "source": [
        "# plot training accuracy\n",
        "plot_modelfit_process(bert_history, \"training process bert.png\")\n",
        "# show confusion matrix\n",
        "cm = confusion_matrix(data_test.is_sarcastic, bert_pred, labels=[0, 1])\n",
        "display = ConfusionMatrixDisplay(confusion_matrix=cm,\n",
        "                                 display_labels=[\"non-sarcastic\", \"sarcastic\"])\n",
        "display.plot()\n",
        "plt.show()\n",
        "display.im_.figure.savefig(path+\"bert cm.png\")\n",
        "# classification report\n",
        "print(classification_report(data_test.is_sarcastic, bert_pred))"
      ],
      "metadata": {
        "colab": {
          "base_uri": "https://localhost:8080/",
          "height": 985
        },
        "id": "YKjgoDLdl1L0",
        "outputId": "cb2d6eb3-00ef-40c1-aeb6-cf486f502ed5"
      },
      "execution_count": 19,
      "outputs": [
        {
          "output_type": "display_data",
          "data": {
            "image/png": "[encoded data removed]",
            "text/plain": [
              "<Figure size 576x576 with 2 Axes>"
            ]
          },
          "metadata": {
            "needs_background": "light"
          }
        },
        {
          "output_type": "display_data",
          "data": {
            "image/png": "[encoded data removed]",
            "text/plain": [
              "<Figure size 432x288 with 2 Axes>"
            ]
          },
          "metadata": {
            "needs_background": "light"
          }
        },
        {
          "output_type": "stream",
          "name": "stdout",
          "text": [
            "              precision    recall  f1-score   support\n",
            "\n",
            "           0       0.86      0.87      0.87      2241\n",
            "           1       0.86      0.84      0.85      2029\n",
            "\n",
            "    accuracy                           0.86      4270\n",
            "   macro avg       0.86      0.86      0.86      4270\n",
            "weighted avg       0.86      0.86      0.86      4270\n",
            "\n"
          ]
        }
      ]
    },
    {
      "cell_type": "code",
      "source": [
        "#comparison\n",
        "nonsar_nb = [0.81,0.81,0.81]\n",
        "sar_nb = [0.79,0.79,0.79]\n",
        "f1_nb = 0.80\n",
        "acc_nb = 0.80\n",
        "\n",
        "nonsar_lstm = [0.84,0.83,0.83]\n",
        "sar_lstm = [0.81,0.83,0.82]\n",
        "f1_lstm = 0.83\n",
        "acc_lstm = 0.8283372521400452\n",
        "\n",
        "nonsar_bert = [0.86,0.87,0.87]\n",
        "sar_bert = [0.86,0.84,0.85]\n",
        "f1_bert = 0.86\n",
        "acc_bert = 0.858782172203064\n",
        "\n",
        "colors = ('#78C8F6','#069AF3','#166688')\n",
        "labels = (\"Naive Bayes\", \"LSTM\", \"BERT\")\n",
        "\n",
        "plt.figure(figsize=(4, 5))\n",
        "plt.bar(range(3), (f1_nb, f1_lstm, f1_bert), tick_label=labels, color=colors, alpha=0.7)\n",
        "plt.title('F1 score')\n",
        "plt.savefig(path+'all F1 score.png', dpi=100)\n",
        "plt.show()\n",
        "\n",
        "plt.figure(figsize=(4, 5))\n",
        "plt.bar(range(3), (acc_nb, acc_lstm, acc_bert), tick_label=labels, color=colors, alpha=0.7)\n",
        "plt.title('Accuracy')\n",
        "plt.savefig(path+'all Accuracy.png', dpi=100)\n",
        "plt.show()"
      ],
      "metadata": {
        "colab": {
          "base_uri": "https://localhost:8080/",
          "height": 655
        },
        "id": "bYCSup9epjtT",
        "outputId": "9b803def-1f53-456a-907c-4f90df6ac34f"
      },
      "execution_count": 32,
      "outputs": [
        {
          "output_type": "display_data",
          "data": {
            "image/png": "[encoded data removed]",
            "text/plain": [
              "<Figure size 288x360 with 1 Axes>"
            ]
          },
          "metadata": {
            "needs_background": "light"
          }
        },
        {
          "output_type": "display_data",
          "data": {
            "image/png": "[encoded data removed]",
            "text/plain": [
              "<Figure size 288x360 with 1 Axes>"
            ]
          },
          "metadata": {
            "needs_background": "light"
          }
        }
      ]
    },
    {
      "cell_type": "code",
      "source": [
        "# Construct hybrid model from article\n",
        "# Defining Neural Network\n",
        "model = Sequential()\n",
        "# Non-trainable embedding layer\n",
        "model.add(Embedding(input_dim=size_of_vocabulary, output_dim=200, weights=[embedding_matrix],\n",
        "                    input_length=20, trainable=False))\n",
        "# LSTM-CNN\n",
        "model.add(Bidirectional(LSTM(units=128,\n",
        "                             return_sequences=True,\n",
        "                             dropout=0.35)))\n",
        "model.add(Conv1D(filters=64, kernel_size=3))\n",
        "model.add(tf.keras.layers.MaxPooling1D(pool_size=2))\n",
        "model.add(Dropout(0.35))\n",
        "model.add(tf.keras.layers.Flatten())\n",
        "model.add(Dense(1, activation='sigmoid'))\n",
        "model.compile(optimizer=tf.keras.optimizers.Adam(),\n",
        "              loss='binary_crossentropy', metrics=['acc'])\n",
        "es = EarlyStopping(monitor='val_loss', mode='min', verbose=1, patience=5)\n",
        "mc = ModelCheckpoint(path+'best_model_lstm22.h5', monitor='val_acc', mode='max',\n",
        "                     save_best_only=True, verbose=1)\n",
        "\n",
        "model.summary()"
      ],
      "metadata": {
        "colab": {
          "base_uri": "https://localhost:8080/"
        },
        "id": "GkezeybQlL5E",
        "outputId": "3b7ff3b4-7d4e-4d03-cd38-6d6dd5df16b4"
      },
      "execution_count": 99,
      "outputs": [
        {
          "output_type": "stream",
          "name": "stdout",
          "text": [
            "Model: \"sequential_15\"\n",
            "_________________________________________________________________\n",
            " Layer (type)                Output Shape              Param #   \n",
            "=================================================================\n",
            " embedding_15 (Embedding)    (None, 20, 200)           4310400   \n",
            "                                                                 \n",
            " bidirectional_15 (Bidirecti  (None, 20, 256)          336896    \n",
            " onal)                                                           \n",
            "                                                                 \n",
            " conv1d_9 (Conv1D)           (None, 18, 64)            49216     \n",
            "                                                                 \n",
            " max_pooling1d_8 (MaxPooling  (None, 9, 64)            0         \n",
            " 1D)                                                             \n",
            "                                                                 \n",
            " dropout_124 (Dropout)       (None, 9, 64)             0         \n",
            "                                                                 \n",
            " flatten_1 (Flatten)         (None, 576)               0         \n",
            "                                                                 \n",
            " dense_17 (Dense)            (None, 1)                 577       \n",
            "                                                                 \n",
            "=================================================================\n",
            "Total params: 4,697,089\n",
            "Trainable params: 386,689\n",
            "Non-trainable params: 4,310,400\n",
            "_________________________________________________________________\n"
          ]
        }
      ]
    },
    {
      "cell_type": "code",
      "source": [
        "# train\n",
        "history = model.fit(x_train_seq, data_train.is_sarcastic,\n",
        "                    batch_size=128,\n",
        "                    validation_data=(x_val_seq, data_val.is_sarcastic),\n",
        "                    verbose=1,\n",
        "                    epochs=20,\n",
        "                    callbacks=[es,mc])"
      ],
      "metadata": {
        "colab": {
          "base_uri": "https://localhost:8080/"
        },
        "id": "8pHaTFOaD0G0",
        "outputId": "d179f4ad-e39f-4d6a-acd3-b4cec4c9250e"
      },
      "execution_count": 100,
      "outputs": [
        {
          "output_type": "stream",
          "name": "stdout",
          "text": [
            "Epoch 1/20\n",
            "150/152 [============================>.] - ETA: 0s - loss: 0.5382 - acc: 0.7262\n",
            "Epoch 00001: val_acc improved from -inf to 0.76131, saving model to /content/drive/MyDrive/ColabNotebooks/TextMiningProject/TextMiningData/best_model_lstm22.h5\n",
            "152/152 [==============================] - 9s 33ms/step - loss: 0.5379 - acc: 0.7262 - val_loss: 0.4958 - val_acc: 0.7613\n",
            "Epoch 2/20\n",
            "151/152 [============================>.] - ETA: 0s - loss: 0.4593 - acc: 0.7811\n",
            "Epoch 00002: val_acc improved from 0.76131 to 0.78570, saving model to /content/drive/MyDrive/ColabNotebooks/TextMiningProject/TextMiningData/best_model_lstm22.h5\n",
            "152/152 [==============================] - 3s 21ms/step - loss: 0.4594 - acc: 0.7810 - val_loss: 0.4528 - val_acc: 0.7857\n",
            "Epoch 3/20\n",
            "150/152 [============================>.] - ETA: 0s - loss: 0.4264 - acc: 0.8010\n",
            "Epoch 00003: val_acc improved from 0.78570 to 0.79169, saving model to /content/drive/MyDrive/ColabNotebooks/TextMiningProject/TextMiningData/best_model_lstm22.h5\n",
            "152/152 [==============================] - 3s 21ms/step - loss: 0.4261 - acc: 0.8017 - val_loss: 0.4372 - val_acc: 0.7917\n",
            "Epoch 4/20\n",
            "150/152 [============================>.] - ETA: 0s - loss: 0.3923 - acc: 0.8231\n",
            "Epoch 00004: val_acc improved from 0.79169 to 0.80244, saving model to /content/drive/MyDrive/ColabNotebooks/TextMiningProject/TextMiningData/best_model_lstm22.h5\n",
            "152/152 [==============================] - 3s 21ms/step - loss: 0.3918 - acc: 0.8232 - val_loss: 0.4291 - val_acc: 0.8024\n",
            "Epoch 5/20\n",
            "150/152 [============================>.] - ETA: 0s - loss: 0.3666 - acc: 0.8340\n",
            "Epoch 00005: val_acc did not improve from 0.80244\n",
            "152/152 [==============================] - 3s 19ms/step - loss: 0.3660 - acc: 0.8343 - val_loss: 0.4346 - val_acc: 0.8012\n",
            "Epoch 6/20\n",
            "152/152 [==============================] - ETA: 0s - loss: 0.3368 - acc: 0.8473\n",
            "Epoch 00006: val_acc improved from 0.80244 to 0.80471, saving model to /content/drive/MyDrive/ColabNotebooks/TextMiningProject/TextMiningData/best_model_lstm22.h5\n",
            "152/152 [==============================] - 3s 21ms/step - loss: 0.3368 - acc: 0.8473 - val_loss: 0.4176 - val_acc: 0.8047\n",
            "Epoch 7/20\n",
            "151/152 [============================>.] - ETA: 0s - loss: 0.3070 - acc: 0.8664\n",
            "Epoch 00007: val_acc improved from 0.80471 to 0.81690, saving model to /content/drive/MyDrive/ColabNotebooks/TextMiningProject/TextMiningData/best_model_lstm22.h5\n",
            "152/152 [==============================] - 3s 20ms/step - loss: 0.3071 - acc: 0.8664 - val_loss: 0.4222 - val_acc: 0.8169\n",
            "Epoch 8/20\n",
            "151/152 [============================>.] - ETA: 0s - loss: 0.2782 - acc: 0.8798\n",
            "Epoch 00008: val_acc did not improve from 0.81690\n",
            "152/152 [==============================] - 3s 19ms/step - loss: 0.2785 - acc: 0.8797 - val_loss: 0.4287 - val_acc: 0.8148\n",
            "Epoch 9/20\n",
            "152/152 [==============================] - ETA: 0s - loss: 0.2513 - acc: 0.8949\n",
            "Epoch 00009: val_acc did not improve from 0.81690\n",
            "152/152 [==============================] - 3s 19ms/step - loss: 0.2513 - acc: 0.8949 - val_loss: 0.4333 - val_acc: 0.8167\n",
            "Epoch 10/20\n",
            "150/152 [============================>.] - ETA: 0s - loss: 0.2313 - acc: 0.9032\n",
            "Epoch 00010: val_acc did not improve from 0.81690\n",
            "152/152 [==============================] - 3s 19ms/step - loss: 0.2312 - acc: 0.9031 - val_loss: 0.4566 - val_acc: 0.8113\n",
            "Epoch 11/20\n",
            "151/152 [============================>.] - ETA: 0s - loss: 0.2083 - acc: 0.9143\n",
            "Epoch 00011: val_acc did not improve from 0.81690\n",
            "152/152 [==============================] - 3s 19ms/step - loss: 0.2084 - acc: 0.9143 - val_loss: 0.4711 - val_acc: 0.8097\n",
            "Epoch 00011: early stopping\n"
          ]
        }
      ]
    },
    {
      "cell_type": "code",
      "source": [
        "# evaluation\n",
        "#model = load_model(path+'best_model_lstm22.h5')\n",
        "_, test_acc = model.evaluate(x_test_seq, data_test.is_sarcastic, batch_size=128)\n",
        "print(\"Accuracy of the model on Testing Data is - \", test_acc * 100)\n",
        "model_pred = model.predict(x_test_seq, batch_size=128)\n",
        "lstm_pred = np.where(model_pred >= 0.5, 1, 0)"
      ],
      "metadata": {
        "colab": {
          "base_uri": "https://localhost:8080/"
        },
        "id": "cr4D5C0EEJL-",
        "outputId": "42f62003-e41b-45c6-ddc8-7dbabaae1246"
      },
      "execution_count": 101,
      "outputs": [
        {
          "output_type": "stream",
          "name": "stdout",
          "text": [
            "34/34 [==============================] - 0s 9ms/step - loss: 0.4653 - acc: 0.8131\n",
            "Accuracy of the model on Testing Data is -  81.31147623062134\n"
          ]
        }
      ]
    },
    {
      "cell_type": "code",
      "source": [
        "# plot training accuracy\n",
        "plot_modelfit_process(history, \"training process lstm compare.png\")"
      ],
      "metadata": {
        "colab": {
          "base_uri": "https://localhost:8080/",
          "height": 567
        },
        "id": "0pv2fUx8EnLN",
        "outputId": "cb6ccf42-6dc6-4da5-d04a-467f0ee5f5bc"
      },
      "execution_count": 102,
      "outputs": [
        {
          "output_type": "display_data",
          "data": {
            "image/png": "[encoded data removed]",
            "text/plain": [
              "<Figure size 576x576 with 2 Axes>"
            ]
          },
          "metadata": {
            "needs_background": "light"
          }
        }
      ]
    },
    {
      "cell_type": "code",
      "source": [
        "# show confusion matrix\n",
        "cm = confusion_matrix(data_test.is_sarcastic, lstm_pred, labels=[0, 1])\n",
        "display = ConfusionMatrixDisplay(confusion_matrix=cm,\n",
        "                                 display_labels=[\"non-sarcastic\", \"sarcastic\"])\n",
        "display.plot()\n",
        "plt.show()\n",
        "display.im_.figure.savefig(path+\"lstm cm compare.png\")\n",
        "\n",
        "print(classification_report(data_test.is_sarcastic, lstm_pred))"
      ],
      "metadata": {
        "colab": {
          "base_uri": "https://localhost:8080/",
          "height": 435
        },
        "id": "i04L5cPqI_SH",
        "outputId": "c2fbd154-7c85-4e79-f61f-b0f28317aadf"
      },
      "execution_count": 103,
      "outputs": [
        {
          "output_type": "display_data",
          "data": {
            "image/png": "[encoded data removed]",
            "text/plain": [
              "<Figure size 432x288 with 2 Axes>"
            ]
          },
          "metadata": {
            "needs_background": "light"
          }
        },
        {
          "output_type": "stream",
          "name": "stdout",
          "text": [
            "              precision    recall  f1-score   support\n",
            "\n",
            "           0       0.86      0.77      0.81      2241\n",
            "           1       0.77      0.86      0.81      2029\n",
            "\n",
            "    accuracy                           0.81      4270\n",
            "   macro avg       0.82      0.82      0.81      4270\n",
            "weighted avg       0.82      0.81      0.81      4270\n",
            "\n"
          ]
        }
      ]
    },
    {
      "cell_type": "code",
      "source": [
        "# analyse come wrongly classified observations\n",
        "# LSTM model\n",
        "df_wrong_lstm = data_test[lstm_pred[:,0]!=data_test.is_sarcastic]\n",
        "#model_pred_lstm\n",
        "\n",
        "# BERT model\n",
        "df_wrong_bert = data_test[bert_pred[:,0]!=data_test.is_sarcastic]\n",
        "#model_pred_bert\n",
        "\n",
        "# both did wrong\n",
        "index_wrong = []\n",
        "for i in df_wrong_bert.index:\n",
        "  if i in df_wrong_lstm.index:\n",
        "    index_wrong.append(i)\n",
        "\n",
        "df_wrong_both = data_test.loc[index_wrong]"
      ],
      "metadata": {
        "id": "Ve3CO3X4NzpH"
      },
      "execution_count": 62,
      "outputs": []
    },
    {
      "cell_type": "code",
      "source": [
        "df_wrong_both"
      ],
      "metadata": {
        "colab": {
          "base_uri": "https://localhost:8080/",
          "height": 688
        },
        "id": "NvLbZz9LsEvl",
        "outputId": "07b29cc6-6745-40a6-e54a-e2ef5f9b4b01"
      },
      "execution_count": 63,
      "outputs": [
        {
          "output_type": "execute_result",
          "data": {
            "text/html": [
              "\n",
              "  <div id=\"df-7eeabb98-e799-4fd5-9281-74553906a1ea\">\n",
              "    <div class=\"colab-df-container\">\n",
              "      <div>\n",
              "<style scoped>\n",
              "    .dataframe tbody tr th:only-of-type {\n",
              "        vertical-align: middle;\n",
              "    }\n",
              "\n",
              "    .dataframe tbody tr th {\n",
              "        vertical-align: top;\n",
              "    }\n",
              "\n",
              "    .dataframe thead th {\n",
              "        text-align: right;\n",
              "    }\n",
              "</style>\n",
              "<table border=\"1\" class=\"dataframe\">\n",
              "  <thead>\n",
              "    <tr style=\"text-align: right;\">\n",
              "      <th></th>\n",
              "      <th>headline</th>\n",
              "      <th>is_sarcastic</th>\n",
              "      <th>headline_before</th>\n",
              "    </tr>\n",
              "  </thead>\n",
              "  <tbody>\n",
              "    <tr>\n",
              "      <th>17471</th>\n",
              "      <td>trump motorcade picks lyft passengers help pre...</td>\n",
              "      <td>1</td>\n",
              "      <td>trump motorcade picks up few lyft passengers t...</td>\n",
              "    </tr>\n",
              "    <tr>\n",
              "      <th>24836</th>\n",
              "      <td>sports journalist told write slop baseball hea...</td>\n",
              "      <td>1</td>\n",
              "      <td>sports journalist told to write some slop abou...</td>\n",
              "    </tr>\n",
              "    <tr>\n",
              "      <th>8815</th>\n",
              "      <td>hillary clinton threatened black man</td>\n",
              "      <td>1</td>\n",
              "      <td>hillary clinton threatened by black man</td>\n",
              "    </tr>\n",
              "    <tr>\n",
              "      <th>230</th>\n",
              "      <td>epa accidentally spills millions gallons waste...</td>\n",
              "      <td>0</td>\n",
              "      <td>epa accidentally spills millions of gallons of...</td>\n",
              "    </tr>\n",
              "    <tr>\n",
              "      <th>14648</th>\n",
              "      <td>brunch livened jazz trio violent breakup</td>\n",
              "      <td>1</td>\n",
              "      <td>brunch livened up by jazz trio's violent breakup</td>\n",
              "    </tr>\n",
              "    <tr>\n",
              "      <th>...</th>\n",
              "      <td>...</td>\n",
              "      <td>...</td>\n",
              "      <td>...</td>\n",
              "    </tr>\n",
              "    <tr>\n",
              "      <th>21196</th>\n",
              "      <td>nuclear threat real says muhammad ali</td>\n",
              "      <td>1</td>\n",
              "      <td>nuclear threat still 'very real,' says muhamma...</td>\n",
              "    </tr>\n",
              "    <tr>\n",
              "      <th>26639</th>\n",
              "      <td>world wonders trump united states forcing nati...</td>\n",
              "      <td>1</td>\n",
              "      <td>world wonders what trump has on united states ...</td>\n",
              "    </tr>\n",
              "    <tr>\n",
              "      <th>17309</th>\n",
              "      <td>heartbroken locals hold candlelight vigil taco...</td>\n",
              "      <td>0</td>\n",
              "      <td>heartbroken locals hold candlelight vigil for ...</td>\n",
              "    </tr>\n",
              "    <tr>\n",
              "      <th>18177</th>\n",
              "      <td>sci fi geek hangs models</td>\n",
              "      <td>1</td>\n",
              "      <td>sci-fi geek only hangs out with models</td>\n",
              "    </tr>\n",
              "    <tr>\n",
              "      <th>23602</th>\n",
              "      <td>excited saved bell pop restaurant</td>\n",
              "      <td>0</td>\n",
              "      <td>we're so excited about this 'saved by the bell...</td>\n",
              "    </tr>\n",
              "  </tbody>\n",
              "</table>\n",
              "<p>133 rows × 3 columns</p>\n",
              "</div>\n",
              "      <button class=\"colab-df-convert\" onclick=\"convertToInteractive('df-7eeabb98-e799-4fd5-9281-74553906a1ea')\"\n",
              "              title=\"Convert this dataframe to an interactive table.\"\n",
              "              style=\"display:none;\">\n",
              "        \n",
              "  <svg xmlns=\"http://www.w3.org/2000/svg\" height=\"24px\"viewBox=\"0 0 24 24\"\n",
              "       width=\"24px\">\n",
              "    <path d=\"M0 0h24v24H0V0z\" fill=\"none\"/>\n",
              "    <path d=\"M18.56 5.44l.94 2.06.94-2.06 2.06-.94-2.06-.94-.94-2.06-.94 2.06-2.06.94zm-11 1L8.5 8.5l.94-2.06 2.06-.94-2.06-.94L8.5 2.5l-.94 2.06-2.06.94zm10 10l.94 2.06.94-2.06 2.06-.94-2.06-.94-.94-2.06-.94 2.06-2.06.94z\"/><path d=\"M17.41 7.96l-1.37-1.37c-.4-.4-.92-.59-1.43-.59-.52 0-1.04.2-1.43.59L10.3 9.45l-7.72 7.72c-.78.78-.78 2.05 0 2.83L4 21.41c.39.39.9.59 1.41.59.51 0 1.02-.2 1.41-.59l7.78-7.78 2.81-2.81c.8-.78.8-2.07 0-2.86zM5.41 20L4 18.59l7.72-7.72 1.47 1.35L5.41 20z\"/>\n",
              "  </svg>\n",
              "      </button>\n",
              "      \n",
              "  <style>\n",
              "    .colab-df-container {\n",
              "      display:flex;\n",
              "      flex-wrap:wrap;\n",
              "      gap: 12px;\n",
              "    }\n",
              "\n",
              "    .colab-df-convert {\n",
              "      background-color: #E8F0FE;\n",
              "      border: none;\n",
              "      border-radius: 50%;\n",
              "      cursor: pointer;\n",
              "      display: none;\n",
              "      fill: #1967D2;\n",
              "      height: 32px;\n",
              "      padding: 0 0 0 0;\n",
              "      width: 32px;\n",
              "    }\n",
              "\n",
              "    .colab-df-convert:hover {\n",
              "      background-color: #E2EBFA;\n",
              "      box-shadow: 0px 1px 2px rgba(60, 64, 67, 0.3), 0px 1px 3px 1px rgba(60, 64, 67, 0.15);\n",
              "      fill: #174EA6;\n",
              "    }\n",
              "\n",
              "    [theme=dark] .colab-df-convert {\n",
              "      background-color: #3B4455;\n",
              "      fill: #D2E3FC;\n",
              "    }\n",
              "\n",
              "    [theme=dark] .colab-df-convert:hover {\n",
              "      background-color: #434B5C;\n",
              "      box-shadow: 0px 1px 3px 1px rgba(0, 0, 0, 0.15);\n",
              "      filter: drop-shadow(0px 1px 2px rgba(0, 0, 0, 0.3));\n",
              "      fill: #FFFFFF;\n",
              "    }\n",
              "  </style>\n",
              "\n",
              "      <script>\n",
              "        const buttonEl =\n",
              "          document.querySelector('#df-7eeabb98-e799-4fd5-9281-74553906a1ea button.colab-df-convert');\n",
              "        buttonEl.style.display =\n",
              "          google.colab.kernel.accessAllowed ? 'block' : 'none';\n",
              "\n",
              "        async function convertToInteractive(key) {\n",
              "          const element = document.querySelector('#df-7eeabb98-e799-4fd5-9281-74553906a1ea');\n",
              "          const dataTable =\n",
              "            await google.colab.kernel.invokeFunction('convertToInteractive',\n",
              "                                                     [key], {});\n",
              "          if (!dataTable) return;\n",
              "\n",
              "          const docLinkHtml = 'Like what you see? Visit the ' +\n",
              "            '<a target=\"_blank\" href=https://colab.research.google.com/notebooks/data_table.ipynb>data table notebook</a>'\n",
              "            + ' to learn more about interactive tables.';\n",
              "          element.innerHTML = '';\n",
              "          dataTable['output_type'] = 'display_data';\n",
              "          await google.colab.output.renderOutput(dataTable, element);\n",
              "          const docLink = document.createElement('div');\n",
              "          docLink.innerHTML = docLinkHtml;\n",
              "          element.appendChild(docLink);\n",
              "        }\n",
              "      </script>\n",
              "    </div>\n",
              "  </div>\n",
              "  "
            ],
            "text/plain": [
              "                                                headline  ...                                    headline_before\n",
              "17471  trump motorcade picks lyft passengers help pre...  ...  trump motorcade picks up few lyft passengers t...\n",
              "24836  sports journalist told write slop baseball hea...  ...  sports journalist told to write some slop abou...\n",
              "8815                hillary clinton threatened black man  ...            hillary clinton threatened by black man\n",
              "230    epa accidentally spills millions gallons waste...  ...  epa accidentally spills millions of gallons of...\n",
              "14648           brunch livened jazz trio violent breakup  ...   brunch livened up by jazz trio's violent breakup\n",
              "...                                                  ...  ...                                                ...\n",
              "21196              nuclear threat real says muhammad ali  ...  nuclear threat still 'very real,' says muhamma...\n",
              "26639  world wonders trump united states forcing nati...  ...  world wonders what trump has on united states ...\n",
              "17309  heartbroken locals hold candlelight vigil taco...  ...  heartbroken locals hold candlelight vigil for ...\n",
              "18177                           sci fi geek hangs models  ...             sci-fi geek only hangs out with models\n",
              "23602                  excited saved bell pop restaurant  ...  we're so excited about this 'saved by the bell...\n",
              "\n",
              "[133 rows x 3 columns]"
            ]
          },
          "metadata": {},
          "execution_count": 63
        }
      ]
    },
    {
      "cell_type": "code",
      "source": [
        "df_wrong_lstm"
      ],
      "metadata": {
        "colab": {
          "base_uri": "https://localhost:8080/",
          "height": 655
        },
        "id": "ioiqYJcsbmjO",
        "outputId": "6880047e-abbb-4fcf-efd1-b11de97b05c5"
      },
      "execution_count": 59,
      "outputs": [
        {
          "output_type": "execute_result",
          "data": {
            "text/html": [
              "\n",
              "  <div id=\"df-80b00273-ae3b-44b3-8292-2428cf0af848\">\n",
              "    <div class=\"colab-df-container\">\n",
              "      <div>\n",
              "<style scoped>\n",
              "    .dataframe tbody tr th:only-of-type {\n",
              "        vertical-align: middle;\n",
              "    }\n",
              "\n",
              "    .dataframe tbody tr th {\n",
              "        vertical-align: top;\n",
              "    }\n",
              "\n",
              "    .dataframe thead th {\n",
              "        text-align: right;\n",
              "    }\n",
              "</style>\n",
              "<table border=\"1\" class=\"dataframe\">\n",
              "  <thead>\n",
              "    <tr style=\"text-align: right;\">\n",
              "      <th></th>\n",
              "      <th>headline</th>\n",
              "      <th>is_sarcastic</th>\n",
              "      <th>headline_before</th>\n",
              "    </tr>\n",
              "  </thead>\n",
              "  <tbody>\n",
              "    <tr>\n",
              "      <th>5536</th>\n",
              "      <td>reconstruction finally completed field destroy...</td>\n",
              "      <td>1</td>\n",
              "      <td>reconstruction finally completed on field dest...</td>\n",
              "    </tr>\n",
              "    <tr>\n",
              "      <th>5389</th>\n",
              "      <td>cannon overshoots tim kaine wells fargo center</td>\n",
              "      <td>1</td>\n",
              "      <td>cannon overshoots tim kaine across wells fargo...</td>\n",
              "    </tr>\n",
              "    <tr>\n",
              "      <th>14371</th>\n",
              "      <td>dad loses lose</td>\n",
              "      <td>0</td>\n",
              "      <td>when dad loses it, we all lose it</td>\n",
              "    </tr>\n",
              "    <tr>\n",
              "      <th>15976</th>\n",
              "      <td>mayor phoenix apologizes naming berlin germany...</td>\n",
              "      <td>1</td>\n",
              "      <td>mayor of phoenix apologizes for naming berlin ...</td>\n",
              "    </tr>\n",
              "    <tr>\n",
              "      <th>23948</th>\n",
              "      <td>fda warns company unapproved consumer genetic ...</td>\n",
              "      <td>0</td>\n",
              "      <td>fda warns another company about unapproved con...</td>\n",
              "    </tr>\n",
              "    <tr>\n",
              "      <th>...</th>\n",
              "      <td>...</td>\n",
              "      <td>...</td>\n",
              "      <td>...</td>\n",
              "    </tr>\n",
              "    <tr>\n",
              "      <th>23602</th>\n",
              "      <td>excited saved bell pop restaurant</td>\n",
              "      <td>0</td>\n",
              "      <td>we're so excited about this 'saved by the bell...</td>\n",
              "    </tr>\n",
              "    <tr>\n",
              "      <th>16443</th>\n",
              "      <td>baby fox supposed die finds man believes</td>\n",
              "      <td>0</td>\n",
              "      <td>baby fox who was supposed to die finds man who...</td>\n",
              "    </tr>\n",
              "    <tr>\n",
              "      <th>18669</th>\n",
              "      <td>google got plans smart contact lenses</td>\n",
              "      <td>0</td>\n",
              "      <td>google's got plans for 'smart' contact lenses</td>\n",
              "    </tr>\n",
              "    <tr>\n",
              "      <th>20143</th>\n",
              "      <td>jeremy piven outraged microsoft word recognize</td>\n",
              "      <td>1</td>\n",
              "      <td>jeremy piven outraged microsoft word doesn't r...</td>\n",
              "    </tr>\n",
              "    <tr>\n",
              "      <th>12956</th>\n",
              "      <td>man wife dies cancer like movies</td>\n",
              "      <td>1</td>\n",
              "      <td>man's wife dies of cancer just like in the movies</td>\n",
              "    </tr>\n",
              "  </tbody>\n",
              "</table>\n",
              "<p>462 rows × 3 columns</p>\n",
              "</div>\n",
              "      <button class=\"colab-df-convert\" onclick=\"convertToInteractive('df-80b00273-ae3b-44b3-8292-2428cf0af848')\"\n",
              "              title=\"Convert this dataframe to an interactive table.\"\n",
              "              style=\"display:none;\">\n",
              "        \n",
              "  <svg xmlns=\"http://www.w3.org/2000/svg\" height=\"24px\"viewBox=\"0 0 24 24\"\n",
              "       width=\"24px\">\n",
              "    <path d=\"M0 0h24v24H0V0z\" fill=\"none\"/>\n",
              "    <path d=\"M18.56 5.44l.94 2.06.94-2.06 2.06-.94-2.06-.94-.94-2.06-.94 2.06-2.06.94zm-11 1L8.5 8.5l.94-2.06 2.06-.94-2.06-.94L8.5 2.5l-.94 2.06-2.06.94zm10 10l.94 2.06.94-2.06 2.06-.94-2.06-.94-.94-2.06-.94 2.06-2.06.94z\"/><path d=\"M17.41 7.96l-1.37-1.37c-.4-.4-.92-.59-1.43-.59-.52 0-1.04.2-1.43.59L10.3 9.45l-7.72 7.72c-.78.78-.78 2.05 0 2.83L4 21.41c.39.39.9.59 1.41.59.51 0 1.02-.2 1.41-.59l7.78-7.78 2.81-2.81c.8-.78.8-2.07 0-2.86zM5.41 20L4 18.59l7.72-7.72 1.47 1.35L5.41 20z\"/>\n",
              "  </svg>\n",
              "      </button>\n",
              "      \n",
              "  <style>\n",
              "    .colab-df-container {\n",
              "      display:flex;\n",
              "      flex-wrap:wrap;\n",
              "      gap: 12px;\n",
              "    }\n",
              "\n",
              "    .colab-df-convert {\n",
              "      background-color: #E8F0FE;\n",
              "      border: none;\n",
              "      border-radius: 50%;\n",
              "      cursor: pointer;\n",
              "      display: none;\n",
              "      fill: #1967D2;\n",
              "      height: 32px;\n",
              "      padding: 0 0 0 0;\n",
              "      width: 32px;\n",
              "    }\n",
              "\n",
              "    .colab-df-convert:hover {\n",
              "      background-color: #E2EBFA;\n",
              "      box-shadow: 0px 1px 2px rgba(60, 64, 67, 0.3), 0px 1px 3px 1px rgba(60, 64, 67, 0.15);\n",
              "      fill: #174EA6;\n",
              "    }\n",
              "\n",
              "    [theme=dark] .colab-df-convert {\n",
              "      background-color: #3B4455;\n",
              "      fill: #D2E3FC;\n",
              "    }\n",
              "\n",
              "    [theme=dark] .colab-df-convert:hover {\n",
              "      background-color: #434B5C;\n",
              "      box-shadow: 0px 1px 3px 1px rgba(0, 0, 0, 0.15);\n",
              "      filter: drop-shadow(0px 1px 2px rgba(0, 0, 0, 0.3));\n",
              "      fill: #FFFFFF;\n",
              "    }\n",
              "  </style>\n",
              "\n",
              "      <script>\n",
              "        const buttonEl =\n",
              "          document.querySelector('#df-80b00273-ae3b-44b3-8292-2428cf0af848 button.colab-df-convert');\n",
              "        buttonEl.style.display =\n",
              "          google.colab.kernel.accessAllowed ? 'block' : 'none';\n",
              "\n",
              "        async function convertToInteractive(key) {\n",
              "          const element = document.querySelector('#df-80b00273-ae3b-44b3-8292-2428cf0af848');\n",
              "          const dataTable =\n",
              "            await google.colab.kernel.invokeFunction('convertToInteractive',\n",
              "                                                     [key], {});\n",
              "          if (!dataTable) return;\n",
              "\n",
              "          const docLinkHtml = 'Like what you see? Visit the ' +\n",
              "            '<a target=\"_blank\" href=https://colab.research.google.com/notebooks/data_table.ipynb>data table notebook</a>'\n",
              "            + ' to learn more about interactive tables.';\n",
              "          element.innerHTML = '';\n",
              "          dataTable['output_type'] = 'display_data';\n",
              "          await google.colab.output.renderOutput(dataTable, element);\n",
              "          const docLink = document.createElement('div');\n",
              "          docLink.innerHTML = docLinkHtml;\n",
              "          element.appendChild(docLink);\n",
              "        }\n",
              "      </script>\n",
              "    </div>\n",
              "  </div>\n",
              "  "
            ],
            "text/plain": [
              "                                                headline  ...                                    headline_before\n",
              "5536   reconstruction finally completed field destroy...  ...  reconstruction finally completed on field dest...\n",
              "5389      cannon overshoots tim kaine wells fargo center  ...  cannon overshoots tim kaine across wells fargo...\n",
              "14371                                     dad loses lose  ...                  when dad loses it, we all lose it\n",
              "15976  mayor phoenix apologizes naming berlin germany...  ...  mayor of phoenix apologizes for naming berlin ...\n",
              "23948  fda warns company unapproved consumer genetic ...  ...  fda warns another company about unapproved con...\n",
              "...                                                  ...  ...                                                ...\n",
              "23602                  excited saved bell pop restaurant  ...  we're so excited about this 'saved by the bell...\n",
              "16443           baby fox supposed die finds man believes  ...  baby fox who was supposed to die finds man who...\n",
              "18669              google got plans smart contact lenses  ...      google's got plans for 'smart' contact lenses\n",
              "20143     jeremy piven outraged microsoft word recognize  ...  jeremy piven outraged microsoft word doesn't r...\n",
              "12956                   man wife dies cancer like movies  ...  man's wife dies of cancer just like in the movies\n",
              "\n",
              "[462 rows x 3 columns]"
            ]
          },
          "metadata": {},
          "execution_count": 59
        }
      ]
    },
    {
      "cell_type": "code",
      "source": [
        "df_wrong_bert"
      ],
      "metadata": {
        "colab": {
          "base_uri": "https://localhost:8080/",
          "height": 688
        },
        "id": "zY11qGe2dBui",
        "outputId": "a73157ac-0e4f-405c-c1fe-057b0fd9052d"
      },
      "execution_count": 58,
      "outputs": [
        {
          "output_type": "execute_result",
          "data": {
            "text/html": [
              "\n",
              "  <div id=\"df-5f99e0d9-49ab-4e0f-b01b-4da147011ef5\">\n",
              "    <div class=\"colab-df-container\">\n",
              "      <div>\n",
              "<style scoped>\n",
              "    .dataframe tbody tr th:only-of-type {\n",
              "        vertical-align: middle;\n",
              "    }\n",
              "\n",
              "    .dataframe tbody tr th {\n",
              "        vertical-align: top;\n",
              "    }\n",
              "\n",
              "    .dataframe thead th {\n",
              "        text-align: right;\n",
              "    }\n",
              "</style>\n",
              "<table border=\"1\" class=\"dataframe\">\n",
              "  <thead>\n",
              "    <tr style=\"text-align: right;\">\n",
              "      <th></th>\n",
              "      <th>headline</th>\n",
              "      <th>is_sarcastic</th>\n",
              "      <th>headline_before</th>\n",
              "    </tr>\n",
              "  </thead>\n",
              "  <tbody>\n",
              "    <tr>\n",
              "      <th>5008</th>\n",
              "      <td>christ mao buddha making comeback china</td>\n",
              "      <td>0</td>\n",
              "      <td>why christ, mao and the buddha are making a co...</td>\n",
              "    </tr>\n",
              "    <tr>\n",
              "      <th>17862</th>\n",
              "      <td>grizzly bear sprained paw mauling hunter repor...</td>\n",
              "      <td>1</td>\n",
              "      <td>grizzly bear sprained paw while mauling hunter...</td>\n",
              "    </tr>\n",
              "    <tr>\n",
              "      <th>17281</th>\n",
              "      <td>computer scientists ai underdeveloped ethics l...</td>\n",
              "      <td>1</td>\n",
              "      <td>computer scientists say ai's underdeveloped et...</td>\n",
              "    </tr>\n",
              "    <tr>\n",
              "      <th>1826</th>\n",
              "      <td>roadtrip movie character</td>\n",
              "      <td>0</td>\n",
              "      <td>which roadtrip movie character are you?</td>\n",
              "    </tr>\n",
              "    <tr>\n",
              "      <th>17471</th>\n",
              "      <td>trump motorcade picks lyft passengers help pre...</td>\n",
              "      <td>1</td>\n",
              "      <td>trump motorcade picks up few lyft passengers t...</td>\n",
              "    </tr>\n",
              "    <tr>\n",
              "      <th>...</th>\n",
              "      <td>...</td>\n",
              "      <td>...</td>\n",
              "      <td>...</td>\n",
              "    </tr>\n",
              "    <tr>\n",
              "      <th>17309</th>\n",
              "      <td>heartbroken locals hold candlelight vigil taco...</td>\n",
              "      <td>0</td>\n",
              "      <td>heartbroken locals hold candlelight vigil for ...</td>\n",
              "    </tr>\n",
              "    <tr>\n",
              "      <th>18177</th>\n",
              "      <td>sci fi geek hangs models</td>\n",
              "      <td>1</td>\n",
              "      <td>sci-fi geek only hangs out with models</td>\n",
              "    </tr>\n",
              "    <tr>\n",
              "      <th>27592</th>\n",
              "      <td>freshness escaping bag peas</td>\n",
              "      <td>1</td>\n",
              "      <td>freshness escaping from bag of peas</td>\n",
              "    </tr>\n",
              "    <tr>\n",
              "      <th>23602</th>\n",
              "      <td>excited saved bell pop restaurant</td>\n",
              "      <td>0</td>\n",
              "      <td>we're so excited about this 'saved by the bell...</td>\n",
              "    </tr>\n",
              "    <tr>\n",
              "      <th>23660</th>\n",
              "      <td>sprint t mobile ceos merge grotesque executive...</td>\n",
              "      <td>1</td>\n",
              "      <td>sprint, t-mobile ceos merge into grotesque exe...</td>\n",
              "    </tr>\n",
              "  </tbody>\n",
              "</table>\n",
              "<p>245 rows × 3 columns</p>\n",
              "</div>\n",
              "      <button class=\"colab-df-convert\" onclick=\"convertToInteractive('df-5f99e0d9-49ab-4e0f-b01b-4da147011ef5')\"\n",
              "              title=\"Convert this dataframe to an interactive table.\"\n",
              "              style=\"display:none;\">\n",
              "        \n",
              "  <svg xmlns=\"http://www.w3.org/2000/svg\" height=\"24px\"viewBox=\"0 0 24 24\"\n",
              "       width=\"24px\">\n",
              "    <path d=\"M0 0h24v24H0V0z\" fill=\"none\"/>\n",
              "    <path d=\"M18.56 5.44l.94 2.06.94-2.06 2.06-.94-2.06-.94-.94-2.06-.94 2.06-2.06.94zm-11 1L8.5 8.5l.94-2.06 2.06-.94-2.06-.94L8.5 2.5l-.94 2.06-2.06.94zm10 10l.94 2.06.94-2.06 2.06-.94-2.06-.94-.94-2.06-.94 2.06-2.06.94z\"/><path d=\"M17.41 7.96l-1.37-1.37c-.4-.4-.92-.59-1.43-.59-.52 0-1.04.2-1.43.59L10.3 9.45l-7.72 7.72c-.78.78-.78 2.05 0 2.83L4 21.41c.39.39.9.59 1.41.59.51 0 1.02-.2 1.41-.59l7.78-7.78 2.81-2.81c.8-.78.8-2.07 0-2.86zM5.41 20L4 18.59l7.72-7.72 1.47 1.35L5.41 20z\"/>\n",
              "  </svg>\n",
              "      </button>\n",
              "      \n",
              "  <style>\n",
              "    .colab-df-container {\n",
              "      display:flex;\n",
              "      flex-wrap:wrap;\n",
              "      gap: 12px;\n",
              "    }\n",
              "\n",
              "    .colab-df-convert {\n",
              "      background-color: #E8F0FE;\n",
              "      border: none;\n",
              "      border-radius: 50%;\n",
              "      cursor: pointer;\n",
              "      display: none;\n",
              "      fill: #1967D2;\n",
              "      height: 32px;\n",
              "      padding: 0 0 0 0;\n",
              "      width: 32px;\n",
              "    }\n",
              "\n",
              "    .colab-df-convert:hover {\n",
              "      background-color: #E2EBFA;\n",
              "      box-shadow: 0px 1px 2px rgba(60, 64, 67, 0.3), 0px 1px 3px 1px rgba(60, 64, 67, 0.15);\n",
              "      fill: #174EA6;\n",
              "    }\n",
              "\n",
              "    [theme=dark] .colab-df-convert {\n",
              "      background-color: #3B4455;\n",
              "      fill: #D2E3FC;\n",
              "    }\n",
              "\n",
              "    [theme=dark] .colab-df-convert:hover {\n",
              "      background-color: #434B5C;\n",
              "      box-shadow: 0px 1px 3px 1px rgba(0, 0, 0, 0.15);\n",
              "      filter: drop-shadow(0px 1px 2px rgba(0, 0, 0, 0.3));\n",
              "      fill: #FFFFFF;\n",
              "    }\n",
              "  </style>\n",
              "\n",
              "      <script>\n",
              "        const buttonEl =\n",
              "          document.querySelector('#df-5f99e0d9-49ab-4e0f-b01b-4da147011ef5 button.colab-df-convert');\n",
              "        buttonEl.style.display =\n",
              "          google.colab.kernel.accessAllowed ? 'block' : 'none';\n",
              "\n",
              "        async function convertToInteractive(key) {\n",
              "          const element = document.querySelector('#df-5f99e0d9-49ab-4e0f-b01b-4da147011ef5');\n",
              "          const dataTable =\n",
              "            await google.colab.kernel.invokeFunction('convertToInteractive',\n",
              "                                                     [key], {});\n",
              "          if (!dataTable) return;\n",
              "\n",
              "          const docLinkHtml = 'Like what you see? Visit the ' +\n",
              "            '<a target=\"_blank\" href=https://colab.research.google.com/notebooks/data_table.ipynb>data table notebook</a>'\n",
              "            + ' to learn more about interactive tables.';\n",
              "          element.innerHTML = '';\n",
              "          dataTable['output_type'] = 'display_data';\n",
              "          await google.colab.output.renderOutput(dataTable, element);\n",
              "          const docLink = document.createElement('div');\n",
              "          docLink.innerHTML = docLinkHtml;\n",
              "          element.appendChild(docLink);\n",
              "        }\n",
              "      </script>\n",
              "    </div>\n",
              "  </div>\n",
              "  "
            ],
            "text/plain": [
              "                                                headline  ...                                    headline_before\n",
              "5008             christ mao buddha making comeback china  ...  why christ, mao and the buddha are making a co...\n",
              "17862  grizzly bear sprained paw mauling hunter repor...  ...  grizzly bear sprained paw while mauling hunter...\n",
              "17281  computer scientists ai underdeveloped ethics l...  ...  computer scientists say ai's underdeveloped et...\n",
              "1826                            roadtrip movie character  ...            which roadtrip movie character are you?\n",
              "17471  trump motorcade picks lyft passengers help pre...  ...  trump motorcade picks up few lyft passengers t...\n",
              "...                                                  ...  ...                                                ...\n",
              "17309  heartbroken locals hold candlelight vigil taco...  ...  heartbroken locals hold candlelight vigil for ...\n",
              "18177                           sci fi geek hangs models  ...             sci-fi geek only hangs out with models\n",
              "27592                        freshness escaping bag peas  ...                freshness escaping from bag of peas\n",
              "23602                  excited saved bell pop restaurant  ...  we're so excited about this 'saved by the bell...\n",
              "23660  sprint t mobile ceos merge grotesque executive...  ...  sprint, t-mobile ceos merge into grotesque exe...\n",
              "\n",
              "[245 rows x 3 columns]"
            ]
          },
          "metadata": {},
          "execution_count": 58
        }
      ]
    },
    {
      "cell_type": "code",
      "source": [
        ""
      ],
      "metadata": {
        "id": "0nUSZf2bqRlT"
      },
      "execution_count": null,
      "outputs": []
    }
  ]
}